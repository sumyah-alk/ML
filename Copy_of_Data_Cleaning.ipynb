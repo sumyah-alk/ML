{
  "nbformat": 4,
  "nbformat_minor": 0,
  "metadata": {
    "kernelspec": {
      "display_name": "Python 3",
      "language": "python",
      "name": "python3"
    },
    "language_info": {
      "codemirror_mode": {
        "name": "ipython",
        "version": 3
      },
      "file_extension": ".py",
      "mimetype": "text/x-python",
      "name": "python",
      "nbconvert_exporter": "python",
      "pygments_lexer": "ipython3",
      "version": "3.7.0"
    },
    "colab": {
      "provenance": [],
      "include_colab_link": true
    }
  },
  "cells": [
    {
      "cell_type": "markdown",
      "metadata": {
        "id": "view-in-github",
        "colab_type": "text"
      },
      "source": [
        "<a href=\"https://colab.research.google.com/github/sumyah-alk/ML/blob/main/Copy_of_Data_Cleaning.ipynb\" target=\"_parent\"><img src=\"https://colab.research.google.com/assets/colab-badge.svg\" alt=\"Open In Colab\"/></a>"
      ]
    },
    {
      "cell_type": "markdown",
      "metadata": {
        "id": "lAF4GfsbNi1m"
      },
      "source": [
        "# Data Cleaning\n",
        "© 2023, Zaka AI, Inc. All Rights Reserved.\n",
        "\n",
        "---\n",
        "##Case Study: Hotel Bookings\n",
        "**Objective:**\n",
        "\n",
        "In this notebook, we are going to go through data cleaning techniques, which are:\n",
        "- Select and Treat All Missing Value\n",
        "- Remove unwanted observation (duplicated or irrelevant observation)\n",
        "- Fix Structure Error in Numerical and Categorical data\n",
        "- Deal with Correlated variables\n",
        "\n",
        "## Dataset Explanation\n",
        "- **hotelHotel:** (H1 = Resort Hotel or H2 = City Hotel)\n",
        "- **is_canceled:** Value indicating if the booking was canceled (1) or not (0)\n",
        "- **lead_time:** Number of days that elapsed between the entering date of the booking into the PMS and the arrival date\n",
        "- **arrival_date_year:** Year of arrival date\n",
        "- **arrival_date_month:** Month of arrival date\n",
        "- **arrival_date_week_number:** Week number of year for arrival date\n",
        "- **arrival_date_day_of_month:** Day of arrival date\n",
        "- **stays_in_weekend_nights:** Number of weekend nights (Saturday or Sunday) the guest stayed or booked to stay at the hotel\n",
        "- **stays_in_week_nights:** Number of week nights (Monday to Friday) the guest stayed or booked to stay at the hotel\n",
        "- **adults:** Number of adults\n",
        "- **children:** Number of children\n",
        "- **babies:** Number of babies\n",
        "- **meal:** Type of meal booked. Categories are presented in standard hospitality meal packages: Undefined/SC – no meal package; BB – Bed & Breakfast; HB – Half board (breakfast and one other meal – usually dinner); FB – Full board (breakfast, lunch and dinner)\n",
        "- **country:** Country of origin. Categories are represented in the ISO 3155–3:2013 format\n",
        "- **market_segment:** Market segment designation. In categories, the term “TA” means “Travel Agents” and “TO” means “Tour Operators”\n",
        "- **distribution_channel:** Booking distribution channel. The term “TA” means “Travel Agents” and “TO” means “Tour Operators”\n",
        "- **is_repeated_gues:t** Value indicating if the booking name was from a repeated guest (1) or not (0)\n",
        "- **previous_cancellations:**  Number of previous bookings that were cancelled by the customer prior to the current booking\n",
        "- **previous_bookings_not_canceled:** Number of previous bookings not cancelled by the customer prior to the current booking\n",
        "- **reserved_room_type:** Code of room type reserved. Code is presented instead of designation for anonymity reasons.\n",
        "- **assigned_room_type:** Code for the type of room assigned to the booking. Sometimes the assigned room type differs from the reserved room type due to hotel operation reasons (e.g. overbooking) or by customer request. Code is presented instead of designation for anonymity reasons.\n",
        "- **booking_changes:**  Number of changes/amendments made to the booking from the moment the booking was entered on the PMS until the moment of check-in or cancellation\n",
        "- **deposit_type:** Indication on if the customer made a deposit to guarantee the booking. This variable can assume three categories: No Deposit – no deposit was made; Non Refund – a deposit was made in the value of the total stay cost; Refundable – a deposit was made with a value under the total cost of stay.\n",
        "- **agent:** ID of the travel agency that made the booking\n",
        "- **company:** ID of the company/entity that made the booking or responsible for paying the booking. ID is presented instead of designation for anonymity reasons\n",
        "- **days_in_waiting_list:** Number of days the booking was in the waiting list before it was confirmed to the customer\n",
        "- **customer_type:** Type of booking, assuming one of four categories: Contract - when the booking has an allotment or other type of contract associated to it; Group – when the booking is associated to a group; Transient – when the booking is not part of a group or contract, and is not associated to other transient booking; Transient-party – when the booking is transient, but is associated to at least other transient booking\n",
        "- **adr:** Average Daily Rate as defined by dividing the sum of all lodging transactions by the total number of staying nights\n",
        "- **required_car_parking_spaces:** Number of car parking spaces required by the customer\n",
        "- **total_of_special_requests:** Number of special requests made by the customer (e.g. twin bed or high floor)\n",
        "- **reservation_status:** Reservation last status, assuming one of three categories: Canceled – booking was canceled by the customer; Check-Out – customer has checked in but already departed; No-Show – customer did not check-in and did inform the hotel of the reason why\n",
        "- **reservation_status_date:** Date at which the last status was set. This variable can be used in conjunction with the Reservation Status to understand when was the booking canceled or when did the customer checked-out of the hotel"
      ]
    },
    {
      "cell_type": "markdown",
      "metadata": {
        "id": "CeNQp4N2Ni1y"
      },
      "source": [
        "# Import Libraries"
      ]
    },
    {
      "cell_type": "code",
      "metadata": {
        "id": "wD4a1PLmNi1z"
      },
      "source": [
        "import pandas as pd\n",
        "import numpy as np\n",
        "import matplotlib.pyplot as plt"
      ],
      "execution_count": null,
      "outputs": []
    },
    {
      "cell_type": "markdown",
      "metadata": {
        "id": "nOKlj2e4Ni11"
      },
      "source": [
        "# Load Dataset"
      ]
    },
    {
      "cell_type": "code",
      "metadata": {
        "colab": {
          "base_uri": "https://localhost:8080/"
        },
        "id": "ZYygLqCq4Xnx",
        "outputId": "30ea37b3-0c31-45a1-caeb-803703f52e62"
      },
      "source": [
        "# clone git repo\n",
        "!git clone https://github.com/zaka-ai/machine_learning_certification\n",
        "\n",
        "# change working directory\n",
        "%cd machine_learning_certification/"
      ],
      "execution_count": null,
      "outputs": [
        {
          "output_type": "stream",
          "text": [
            "Cloning into 'machine_learning_certification'...\n",
            "remote: Enumerating objects: 6, done.\u001b[K\n",
            "remote: Counting objects: 100% (6/6), done.\u001b[K\n",
            "remote: Compressing objects: 100% (4/4), done.\u001b[K\n",
            "remote: Total 6 (delta 0), reused 0 (delta 0), pack-reused 0\u001b[K\n",
            "Unpacking objects: 100% (6/6), done.\n",
            "/content/machine_learning_certification\n"
          ],
          "name": "stdout"
        }
      ]
    },
    {
      "cell_type": "markdown",
      "metadata": {
        "id": "Q_HBhm5w7zv4"
      },
      "source": [
        "We need to get our dataset by using the read_csv function of the pandas library."
      ]
    },
    {
      "cell_type": "code",
      "metadata": {
        "id": "xySm4OVyNi11"
      },
      "source": [
        "df=pd.read_csv('hotel_bookings.csv')"
      ],
      "execution_count": null,
      "outputs": []
    },
    {
      "cell_type": "markdown",
      "metadata": {
        "id": "mLfkKUmQNi13"
      },
      "source": [
        "# 1. Exploring your data / Diagnosis phase"
      ]
    },
    {
      "cell_type": "markdown",
      "metadata": {
        "id": "4rKJxGj0Ni15"
      },
      "source": [
        "## 1.1 Diagnose data for cleaning"
      ]
    },
    {
      "cell_type": "markdown",
      "metadata": {
        "id": "BtV9JXgVNi15"
      },
      "source": [
        "When you get a new DataFrame to work with, the first thing you need to do is explore it and see what it contains. There are several useful methods and attributes for this.\n",
        "\n",
        "- .head() returns the first few rows (the “head” of the DataFrame).\n",
        "- .tail() returns the first few rows (the “tail” of the DataFrame).\n",
        "- .info() shows information on each of the columns, such as the data type and number of missing values.\n",
        "- .shape returns the number of rows and columns of the DataFrame.\n",
        "- .columns: An index of columns: the column names.\n",
        "- .index: An index for the rows: either row numbers or row names."
      ]
    },
    {
      "cell_type": "code",
      "metadata": {
        "id": "SUqLn9usNi16",
        "colab": {
          "base_uri": "https://localhost:8080/",
          "height": 307
        },
        "outputId": "04c6c08e-6672-48a2-a6a8-bd4a76177e5b"
      },
      "source": [
        "df.head()"
      ],
      "execution_count": null,
      "outputs": [
        {
          "output_type": "execute_result",
          "data": {
            "text/html": [
              "<div>\n",
              "<style scoped>\n",
              "    .dataframe tbody tr th:only-of-type {\n",
              "        vertical-align: middle;\n",
              "    }\n",
              "\n",
              "    .dataframe tbody tr th {\n",
              "        vertical-align: top;\n",
              "    }\n",
              "\n",
              "    .dataframe thead th {\n",
              "        text-align: right;\n",
              "    }\n",
              "</style>\n",
              "<table border=\"1\" class=\"dataframe\">\n",
              "  <thead>\n",
              "    <tr style=\"text-align: right;\">\n",
              "      <th></th>\n",
              "      <th>hotel</th>\n",
              "      <th>is_canceled</th>\n",
              "      <th>lead_time</th>\n",
              "      <th>arrival_date_year</th>\n",
              "      <th>arrival_date_month</th>\n",
              "      <th>arrival_date_week_number</th>\n",
              "      <th>arrival_date_day_of_month</th>\n",
              "      <th>stays_in_weekend_nights</th>\n",
              "      <th>stays_in_week_nights</th>\n",
              "      <th>adults</th>\n",
              "      <th>children</th>\n",
              "      <th>babies</th>\n",
              "      <th>meal</th>\n",
              "      <th>country</th>\n",
              "      <th>market_segment</th>\n",
              "      <th>distribution_channel</th>\n",
              "      <th>is_repeated_guest</th>\n",
              "      <th>previous_cancellations</th>\n",
              "      <th>previous_bookings_not_canceled</th>\n",
              "      <th>reserved_room_type</th>\n",
              "      <th>assigned_room_type</th>\n",
              "      <th>booking_changes</th>\n",
              "      <th>deposit_type</th>\n",
              "      <th>agent</th>\n",
              "      <th>company</th>\n",
              "      <th>days_in_waiting_list</th>\n",
              "      <th>customer_type</th>\n",
              "      <th>adr</th>\n",
              "      <th>required_car_parking_spaces</th>\n",
              "      <th>total_of_special_requests</th>\n",
              "      <th>reservation_status</th>\n",
              "      <th>reservation_status_date</th>\n",
              "    </tr>\n",
              "  </thead>\n",
              "  <tbody>\n",
              "    <tr>\n",
              "      <th>0</th>\n",
              "      <td>Resort Hotel</td>\n",
              "      <td>0</td>\n",
              "      <td>342</td>\n",
              "      <td>2015</td>\n",
              "      <td>July</td>\n",
              "      <td>27</td>\n",
              "      <td>1</td>\n",
              "      <td>0</td>\n",
              "      <td>0</td>\n",
              "      <td>2</td>\n",
              "      <td>0.0</td>\n",
              "      <td>0</td>\n",
              "      <td>BB</td>\n",
              "      <td>PRT</td>\n",
              "      <td>Direct</td>\n",
              "      <td>Direct</td>\n",
              "      <td>0</td>\n",
              "      <td>0</td>\n",
              "      <td>0</td>\n",
              "      <td>C</td>\n",
              "      <td>C</td>\n",
              "      <td>3</td>\n",
              "      <td>No Deposit</td>\n",
              "      <td>NaN</td>\n",
              "      <td>NaN</td>\n",
              "      <td>0</td>\n",
              "      <td>Transient</td>\n",
              "      <td>0.0</td>\n",
              "      <td>0</td>\n",
              "      <td>0</td>\n",
              "      <td>Check-Out</td>\n",
              "      <td>2015-07-01</td>\n",
              "    </tr>\n",
              "    <tr>\n",
              "      <th>1</th>\n",
              "      <td>Resort Hotel</td>\n",
              "      <td>0</td>\n",
              "      <td>737</td>\n",
              "      <td>2015</td>\n",
              "      <td>July</td>\n",
              "      <td>27</td>\n",
              "      <td>1</td>\n",
              "      <td>0</td>\n",
              "      <td>0</td>\n",
              "      <td>2</td>\n",
              "      <td>0.0</td>\n",
              "      <td>0</td>\n",
              "      <td>BB</td>\n",
              "      <td>PRT</td>\n",
              "      <td>Direct</td>\n",
              "      <td>Direct</td>\n",
              "      <td>0</td>\n",
              "      <td>0</td>\n",
              "      <td>0</td>\n",
              "      <td>C</td>\n",
              "      <td>C</td>\n",
              "      <td>4</td>\n",
              "      <td>No Deposit</td>\n",
              "      <td>NaN</td>\n",
              "      <td>NaN</td>\n",
              "      <td>0</td>\n",
              "      <td>Transient</td>\n",
              "      <td>0.0</td>\n",
              "      <td>0</td>\n",
              "      <td>0</td>\n",
              "      <td>Check-Out</td>\n",
              "      <td>2015-07-01</td>\n",
              "    </tr>\n",
              "    <tr>\n",
              "      <th>2</th>\n",
              "      <td>Resort Hotel</td>\n",
              "      <td>0</td>\n",
              "      <td>7</td>\n",
              "      <td>2015</td>\n",
              "      <td>July</td>\n",
              "      <td>27</td>\n",
              "      <td>1</td>\n",
              "      <td>0</td>\n",
              "      <td>1</td>\n",
              "      <td>1</td>\n",
              "      <td>0.0</td>\n",
              "      <td>0</td>\n",
              "      <td>BB</td>\n",
              "      <td>GBR</td>\n",
              "      <td>Direct</td>\n",
              "      <td>Direct</td>\n",
              "      <td>0</td>\n",
              "      <td>0</td>\n",
              "      <td>0</td>\n",
              "      <td>A</td>\n",
              "      <td>C</td>\n",
              "      <td>0</td>\n",
              "      <td>No Deposit</td>\n",
              "      <td>NaN</td>\n",
              "      <td>NaN</td>\n",
              "      <td>0</td>\n",
              "      <td>Transient</td>\n",
              "      <td>75.0</td>\n",
              "      <td>0</td>\n",
              "      <td>0</td>\n",
              "      <td>Check-Out</td>\n",
              "      <td>2015-07-02</td>\n",
              "    </tr>\n",
              "    <tr>\n",
              "      <th>3</th>\n",
              "      <td>Resort Hotel</td>\n",
              "      <td>0</td>\n",
              "      <td>13</td>\n",
              "      <td>2015</td>\n",
              "      <td>July</td>\n",
              "      <td>27</td>\n",
              "      <td>1</td>\n",
              "      <td>0</td>\n",
              "      <td>1</td>\n",
              "      <td>1</td>\n",
              "      <td>0.0</td>\n",
              "      <td>0</td>\n",
              "      <td>BB</td>\n",
              "      <td>GBR</td>\n",
              "      <td>Corporate</td>\n",
              "      <td>Corporate</td>\n",
              "      <td>0</td>\n",
              "      <td>0</td>\n",
              "      <td>0</td>\n",
              "      <td>A</td>\n",
              "      <td>A</td>\n",
              "      <td>0</td>\n",
              "      <td>No Deposit</td>\n",
              "      <td>304.0</td>\n",
              "      <td>NaN</td>\n",
              "      <td>0</td>\n",
              "      <td>Transient</td>\n",
              "      <td>75.0</td>\n",
              "      <td>0</td>\n",
              "      <td>0</td>\n",
              "      <td>Check-Out</td>\n",
              "      <td>2015-07-02</td>\n",
              "    </tr>\n",
              "    <tr>\n",
              "      <th>4</th>\n",
              "      <td>Resort Hotel</td>\n",
              "      <td>0</td>\n",
              "      <td>14</td>\n",
              "      <td>2015</td>\n",
              "      <td>July</td>\n",
              "      <td>27</td>\n",
              "      <td>1</td>\n",
              "      <td>0</td>\n",
              "      <td>2</td>\n",
              "      <td>2</td>\n",
              "      <td>0.0</td>\n",
              "      <td>0</td>\n",
              "      <td>BB</td>\n",
              "      <td>GBR</td>\n",
              "      <td>Online TA</td>\n",
              "      <td>TA/TO</td>\n",
              "      <td>0</td>\n",
              "      <td>0</td>\n",
              "      <td>0</td>\n",
              "      <td>A</td>\n",
              "      <td>A</td>\n",
              "      <td>0</td>\n",
              "      <td>No Deposit</td>\n",
              "      <td>240.0</td>\n",
              "      <td>NaN</td>\n",
              "      <td>0</td>\n",
              "      <td>Transient</td>\n",
              "      <td>98.0</td>\n",
              "      <td>0</td>\n",
              "      <td>1</td>\n",
              "      <td>Check-Out</td>\n",
              "      <td>2015-07-03</td>\n",
              "    </tr>\n",
              "  </tbody>\n",
              "</table>\n",
              "</div>"
            ],
            "text/plain": [
              "          hotel  is_canceled  ...  reservation_status  reservation_status_date\n",
              "0  Resort Hotel            0  ...           Check-Out               2015-07-01\n",
              "1  Resort Hotel            0  ...           Check-Out               2015-07-01\n",
              "2  Resort Hotel            0  ...           Check-Out               2015-07-02\n",
              "3  Resort Hotel            0  ...           Check-Out               2015-07-02\n",
              "4  Resort Hotel            0  ...           Check-Out               2015-07-03\n",
              "\n",
              "[5 rows x 32 columns]"
            ]
          },
          "metadata": {
            "tags": []
          },
          "execution_count": 4
        }
      ]
    },
    {
      "cell_type": "code",
      "metadata": {
        "id": "9yCS5wxuNi19",
        "colab": {
          "base_uri": "https://localhost:8080/",
          "height": 307
        },
        "outputId": "4124077b-80fb-468a-b239-8bdcd90ce6f2"
      },
      "source": [
        "df.tail()"
      ],
      "execution_count": null,
      "outputs": [
        {
          "output_type": "execute_result",
          "data": {
            "text/html": [
              "<div>\n",
              "<style scoped>\n",
              "    .dataframe tbody tr th:only-of-type {\n",
              "        vertical-align: middle;\n",
              "    }\n",
              "\n",
              "    .dataframe tbody tr th {\n",
              "        vertical-align: top;\n",
              "    }\n",
              "\n",
              "    .dataframe thead th {\n",
              "        text-align: right;\n",
              "    }\n",
              "</style>\n",
              "<table border=\"1\" class=\"dataframe\">\n",
              "  <thead>\n",
              "    <tr style=\"text-align: right;\">\n",
              "      <th></th>\n",
              "      <th>hotel</th>\n",
              "      <th>is_canceled</th>\n",
              "      <th>lead_time</th>\n",
              "      <th>arrival_date_year</th>\n",
              "      <th>arrival_date_month</th>\n",
              "      <th>arrival_date_week_number</th>\n",
              "      <th>arrival_date_day_of_month</th>\n",
              "      <th>stays_in_weekend_nights</th>\n",
              "      <th>stays_in_week_nights</th>\n",
              "      <th>adults</th>\n",
              "      <th>children</th>\n",
              "      <th>babies</th>\n",
              "      <th>meal</th>\n",
              "      <th>country</th>\n",
              "      <th>market_segment</th>\n",
              "      <th>distribution_channel</th>\n",
              "      <th>is_repeated_guest</th>\n",
              "      <th>previous_cancellations</th>\n",
              "      <th>previous_bookings_not_canceled</th>\n",
              "      <th>reserved_room_type</th>\n",
              "      <th>assigned_room_type</th>\n",
              "      <th>booking_changes</th>\n",
              "      <th>deposit_type</th>\n",
              "      <th>agent</th>\n",
              "      <th>company</th>\n",
              "      <th>days_in_waiting_list</th>\n",
              "      <th>customer_type</th>\n",
              "      <th>adr</th>\n",
              "      <th>required_car_parking_spaces</th>\n",
              "      <th>total_of_special_requests</th>\n",
              "      <th>reservation_status</th>\n",
              "      <th>reservation_status_date</th>\n",
              "    </tr>\n",
              "  </thead>\n",
              "  <tbody>\n",
              "    <tr>\n",
              "      <th>119385</th>\n",
              "      <td>City Hotel</td>\n",
              "      <td>0</td>\n",
              "      <td>23</td>\n",
              "      <td>2017</td>\n",
              "      <td>August</td>\n",
              "      <td>35</td>\n",
              "      <td>30</td>\n",
              "      <td>2</td>\n",
              "      <td>5</td>\n",
              "      <td>2</td>\n",
              "      <td>0.0</td>\n",
              "      <td>0</td>\n",
              "      <td>BB</td>\n",
              "      <td>BEL</td>\n",
              "      <td>Offline TA/TO</td>\n",
              "      <td>TA/TO</td>\n",
              "      <td>0</td>\n",
              "      <td>0</td>\n",
              "      <td>0</td>\n",
              "      <td>A</td>\n",
              "      <td>A</td>\n",
              "      <td>0</td>\n",
              "      <td>No Deposit</td>\n",
              "      <td>394.0</td>\n",
              "      <td>NaN</td>\n",
              "      <td>0</td>\n",
              "      <td>Transient</td>\n",
              "      <td>96.14</td>\n",
              "      <td>0</td>\n",
              "      <td>0</td>\n",
              "      <td>Check-Out</td>\n",
              "      <td>2017-09-06</td>\n",
              "    </tr>\n",
              "    <tr>\n",
              "      <th>119386</th>\n",
              "      <td>City Hotel</td>\n",
              "      <td>0</td>\n",
              "      <td>102</td>\n",
              "      <td>2017</td>\n",
              "      <td>August</td>\n",
              "      <td>35</td>\n",
              "      <td>31</td>\n",
              "      <td>2</td>\n",
              "      <td>5</td>\n",
              "      <td>3</td>\n",
              "      <td>0.0</td>\n",
              "      <td>0</td>\n",
              "      <td>BB</td>\n",
              "      <td>FRA</td>\n",
              "      <td>Online TA</td>\n",
              "      <td>TA/TO</td>\n",
              "      <td>0</td>\n",
              "      <td>0</td>\n",
              "      <td>0</td>\n",
              "      <td>E</td>\n",
              "      <td>E</td>\n",
              "      <td>0</td>\n",
              "      <td>No Deposit</td>\n",
              "      <td>9.0</td>\n",
              "      <td>NaN</td>\n",
              "      <td>0</td>\n",
              "      <td>Transient</td>\n",
              "      <td>225.43</td>\n",
              "      <td>0</td>\n",
              "      <td>2</td>\n",
              "      <td>Check-Out</td>\n",
              "      <td>2017-09-07</td>\n",
              "    </tr>\n",
              "    <tr>\n",
              "      <th>119387</th>\n",
              "      <td>City Hotel</td>\n",
              "      <td>0</td>\n",
              "      <td>34</td>\n",
              "      <td>2017</td>\n",
              "      <td>August</td>\n",
              "      <td>35</td>\n",
              "      <td>31</td>\n",
              "      <td>2</td>\n",
              "      <td>5</td>\n",
              "      <td>2</td>\n",
              "      <td>0.0</td>\n",
              "      <td>0</td>\n",
              "      <td>BB</td>\n",
              "      <td>DEU</td>\n",
              "      <td>Online TA</td>\n",
              "      <td>TA/TO</td>\n",
              "      <td>0</td>\n",
              "      <td>0</td>\n",
              "      <td>0</td>\n",
              "      <td>D</td>\n",
              "      <td>D</td>\n",
              "      <td>0</td>\n",
              "      <td>No Deposit</td>\n",
              "      <td>9.0</td>\n",
              "      <td>NaN</td>\n",
              "      <td>0</td>\n",
              "      <td>Transient</td>\n",
              "      <td>157.71</td>\n",
              "      <td>0</td>\n",
              "      <td>4</td>\n",
              "      <td>Check-Out</td>\n",
              "      <td>2017-09-07</td>\n",
              "    </tr>\n",
              "    <tr>\n",
              "      <th>119388</th>\n",
              "      <td>City Hotel</td>\n",
              "      <td>0</td>\n",
              "      <td>109</td>\n",
              "      <td>2017</td>\n",
              "      <td>August</td>\n",
              "      <td>35</td>\n",
              "      <td>31</td>\n",
              "      <td>2</td>\n",
              "      <td>5</td>\n",
              "      <td>2</td>\n",
              "      <td>0.0</td>\n",
              "      <td>0</td>\n",
              "      <td>BB</td>\n",
              "      <td>GBR</td>\n",
              "      <td>Online TA</td>\n",
              "      <td>TA/TO</td>\n",
              "      <td>0</td>\n",
              "      <td>0</td>\n",
              "      <td>0</td>\n",
              "      <td>A</td>\n",
              "      <td>A</td>\n",
              "      <td>0</td>\n",
              "      <td>No Deposit</td>\n",
              "      <td>89.0</td>\n",
              "      <td>NaN</td>\n",
              "      <td>0</td>\n",
              "      <td>Transient</td>\n",
              "      <td>104.40</td>\n",
              "      <td>0</td>\n",
              "      <td>0</td>\n",
              "      <td>Check-Out</td>\n",
              "      <td>2017-09-07</td>\n",
              "    </tr>\n",
              "    <tr>\n",
              "      <th>119389</th>\n",
              "      <td>City Hotel</td>\n",
              "      <td>0</td>\n",
              "      <td>205</td>\n",
              "      <td>2017</td>\n",
              "      <td>August</td>\n",
              "      <td>35</td>\n",
              "      <td>29</td>\n",
              "      <td>2</td>\n",
              "      <td>7</td>\n",
              "      <td>2</td>\n",
              "      <td>0.0</td>\n",
              "      <td>0</td>\n",
              "      <td>HB</td>\n",
              "      <td>DEU</td>\n",
              "      <td>Online TA</td>\n",
              "      <td>TA/TO</td>\n",
              "      <td>0</td>\n",
              "      <td>0</td>\n",
              "      <td>0</td>\n",
              "      <td>A</td>\n",
              "      <td>A</td>\n",
              "      <td>0</td>\n",
              "      <td>No Deposit</td>\n",
              "      <td>9.0</td>\n",
              "      <td>NaN</td>\n",
              "      <td>0</td>\n",
              "      <td>Transient</td>\n",
              "      <td>151.20</td>\n",
              "      <td>0</td>\n",
              "      <td>2</td>\n",
              "      <td>Check-Out</td>\n",
              "      <td>2017-09-07</td>\n",
              "    </tr>\n",
              "  </tbody>\n",
              "</table>\n",
              "</div>"
            ],
            "text/plain": [
              "             hotel  is_canceled  ...  reservation_status  reservation_status_date\n",
              "119385  City Hotel            0  ...           Check-Out               2017-09-06\n",
              "119386  City Hotel            0  ...           Check-Out               2017-09-07\n",
              "119387  City Hotel            0  ...           Check-Out               2017-09-07\n",
              "119388  City Hotel            0  ...           Check-Out               2017-09-07\n",
              "119389  City Hotel            0  ...           Check-Out               2017-09-07\n",
              "\n",
              "[5 rows x 32 columns]"
            ]
          },
          "metadata": {
            "tags": []
          },
          "execution_count": 5
        }
      ]
    },
    {
      "cell_type": "code",
      "metadata": {
        "id": "wg2F5FcaNi1-",
        "colab": {
          "base_uri": "https://localhost:8080/"
        },
        "outputId": "f83a75e9-64cb-4df8-dff9-b5fe7d03ce23"
      },
      "source": [
        "df.columns"
      ],
      "execution_count": null,
      "outputs": [
        {
          "output_type": "execute_result",
          "data": {
            "text/plain": [
              "Index(['hotel', 'is_canceled', 'lead_time', 'arrival_date_year',\n",
              "       'arrival_date_month', 'arrival_date_week_number',\n",
              "       'arrival_date_day_of_month', 'stays_in_weekend_nights',\n",
              "       'stays_in_week_nights', 'adults', 'children', 'babies', 'meal',\n",
              "       'country', 'market_segment', 'distribution_channel',\n",
              "       'is_repeated_guest', 'previous_cancellations',\n",
              "       'previous_bookings_not_canceled', 'reserved_room_type',\n",
              "       'assigned_room_type', 'booking_changes', 'deposit_type', 'agent',\n",
              "       'company', 'days_in_waiting_list', 'customer_type', 'adr',\n",
              "       'required_car_parking_spaces', 'total_of_special_requests',\n",
              "       'reservation_status', 'reservation_status_date'],\n",
              "      dtype='object')"
            ]
          },
          "metadata": {
            "tags": []
          },
          "execution_count": 6
        }
      ]
    },
    {
      "cell_type": "code",
      "metadata": {
        "id": "uBPOHXoiNi1_",
        "colab": {
          "base_uri": "https://localhost:8080/"
        },
        "outputId": "669f2bf3-5d08-43b1-f343-de09e3f7fe78"
      },
      "source": [
        "df.shape"
      ],
      "execution_count": null,
      "outputs": [
        {
          "output_type": "execute_result",
          "data": {
            "text/plain": [
              "(119390, 32)"
            ]
          },
          "metadata": {
            "tags": []
          },
          "execution_count": 7
        }
      ]
    },
    {
      "cell_type": "code",
      "metadata": {
        "id": "ttktNlvMNi1_",
        "colab": {
          "base_uri": "https://localhost:8080/"
        },
        "outputId": "52d82c3e-be63-456d-b0d3-fa3394b7e0d8"
      },
      "source": [
        "df.info()"
      ],
      "execution_count": null,
      "outputs": [
        {
          "output_type": "stream",
          "text": [
            "<class 'pandas.core.frame.DataFrame'>\n",
            "RangeIndex: 119390 entries, 0 to 119389\n",
            "Data columns (total 32 columns):\n",
            " #   Column                          Non-Null Count   Dtype  \n",
            "---  ------                          --------------   -----  \n",
            " 0   hotel                           119390 non-null  object \n",
            " 1   is_canceled                     119390 non-null  int64  \n",
            " 2   lead_time                       119390 non-null  int64  \n",
            " 3   arrival_date_year               119390 non-null  int64  \n",
            " 4   arrival_date_month              119390 non-null  object \n",
            " 5   arrival_date_week_number        119390 non-null  int64  \n",
            " 6   arrival_date_day_of_month       119390 non-null  int64  \n",
            " 7   stays_in_weekend_nights         119390 non-null  int64  \n",
            " 8   stays_in_week_nights            119390 non-null  int64  \n",
            " 9   adults                          119390 non-null  int64  \n",
            " 10  children                        119386 non-null  float64\n",
            " 11  babies                          119390 non-null  int64  \n",
            " 12  meal                            119390 non-null  object \n",
            " 13  country                         118902 non-null  object \n",
            " 14  market_segment                  119390 non-null  object \n",
            " 15  distribution_channel            119390 non-null  object \n",
            " 16  is_repeated_guest               119390 non-null  int64  \n",
            " 17  previous_cancellations          119390 non-null  int64  \n",
            " 18  previous_bookings_not_canceled  119390 non-null  int64  \n",
            " 19  reserved_room_type              119390 non-null  object \n",
            " 20  assigned_room_type              119390 non-null  object \n",
            " 21  booking_changes                 119390 non-null  int64  \n",
            " 22  deposit_type                    119390 non-null  object \n",
            " 23  agent                           103050 non-null  float64\n",
            " 24  company                         6797 non-null    float64\n",
            " 25  days_in_waiting_list            119390 non-null  int64  \n",
            " 26  customer_type                   119390 non-null  object \n",
            " 27  adr                             119390 non-null  float64\n",
            " 28  required_car_parking_spaces     119390 non-null  int64  \n",
            " 29  total_of_special_requests       119390 non-null  int64  \n",
            " 30  reservation_status              119390 non-null  object \n",
            " 31  reservation_status_date         119390 non-null  object \n",
            "dtypes: float64(4), int64(16), object(12)\n",
            "memory usage: 29.1+ MB\n"
          ],
          "name": "stdout"
        }
      ]
    },
    {
      "cell_type": "markdown",
      "metadata": {
        "id": "BJsq9LWBNi2A"
      },
      "source": [
        "- Missing values in agent, children, country and company columns (We can see that from the non null count)"
      ]
    },
    {
      "cell_type": "code",
      "metadata": {
        "id": "Cw5LwltOOdhD",
        "colab": {
          "base_uri": "https://localhost:8080/"
        },
        "outputId": "597a2055-2ebf-4f79-f0e7-71bf877a2037"
      },
      "source": [
        "df.index"
      ],
      "execution_count": null,
      "outputs": [
        {
          "output_type": "execute_result",
          "data": {
            "text/plain": [
              "RangeIndex(start=0, stop=119390, step=1)"
            ]
          },
          "metadata": {
            "tags": []
          },
          "execution_count": 9
        }
      ]
    },
    {
      "cell_type": "markdown",
      "metadata": {
        "id": "nXeR1-qjNi2B"
      },
      "source": [
        "## 1.2 Exploratory data analysis"
      ]
    },
    {
      "cell_type": "markdown",
      "metadata": {
        "id": "ghDh9dM2Ni2B"
      },
      "source": [
        "- describe() method is good for checking on numerical columns\n",
        "- value_counts() is good for checking on categorical columns"
      ]
    },
    {
      "cell_type": "markdown",
      "metadata": {
        "id": "Q__DS0hHNi2B"
      },
      "source": [
        "#### Check Unique Values for df column to know whether column type is correct or not"
      ]
    },
    {
      "cell_type": "code",
      "metadata": {
        "id": "9K1TiRcANi2C",
        "colab": {
          "base_uri": "https://localhost:8080/"
        },
        "outputId": "16ff3b77-d3c6-4d9d-d6ad-9e42953f3ef5"
      },
      "source": [
        "for i in df.columns:\n",
        "    x = df[i].value_counts()\n",
        "    print(\"Column name \",i,\" has different values of:\",len(x))"
      ],
      "execution_count": null,
      "outputs": [
        {
          "output_type": "stream",
          "text": [
            "Column name  hotel  has different values of: 2\n",
            "Column name  is_canceled  has different values of: 2\n",
            "Column name  lead_time  has different values of: 479\n",
            "Column name  arrival_date_year  has different values of: 3\n",
            "Column name  arrival_date_month  has different values of: 12\n",
            "Column name  arrival_date_week_number  has different values of: 53\n",
            "Column name  arrival_date_day_of_month  has different values of: 31\n",
            "Column name  stays_in_weekend_nights  has different values of: 17\n",
            "Column name  stays_in_week_nights  has different values of: 35\n",
            "Column name  adults  has different values of: 14\n",
            "Column name  children  has different values of: 5\n",
            "Column name  babies  has different values of: 5\n",
            "Column name  meal  has different values of: 5\n",
            "Column name  country  has different values of: 177\n",
            "Column name  market_segment  has different values of: 8\n",
            "Column name  distribution_channel  has different values of: 5\n",
            "Column name  is_repeated_guest  has different values of: 2\n",
            "Column name  previous_cancellations  has different values of: 15\n",
            "Column name  previous_bookings_not_canceled  has different values of: 73\n",
            "Column name  reserved_room_type  has different values of: 10\n",
            "Column name  assigned_room_type  has different values of: 12\n",
            "Column name  booking_changes  has different values of: 21\n",
            "Column name  deposit_type  has different values of: 3\n",
            "Column name  agent  has different values of: 333\n",
            "Column name  company  has different values of: 352\n",
            "Column name  days_in_waiting_list  has different values of: 128\n",
            "Column name  customer_type  has different values of: 4\n",
            "Column name  adr  has different values of: 8879\n",
            "Column name  required_car_parking_spaces  has different values of: 5\n",
            "Column name  total_of_special_requests  has different values of: 6\n",
            "Column name  reservation_status  has different values of: 3\n",
            "Column name  reservation_status_date  has different values of: 926\n"
          ],
          "name": "stdout"
        }
      ]
    },
    {
      "cell_type": "markdown",
      "metadata": {
        "id": "ebqaxRJkNi2C"
      },
      "source": [
        "According to the unqiue values per each column the following columns should be change to\n",
        "1. **categorical columns:**   mealType, country,market_segment,distribution_channel,reserved_room_type, assigned_room_type, customer_type,reservation_status,arrival_date_month, hotel, arrival_date_year\n",
        "2. **boolean:** is_canceled, is_repeated_guest\n",
        "3. **int:** children, agent, company, ...\n",
        "4. **date:** reservation_status_date"
      ]
    },
    {
      "cell_type": "markdown",
      "metadata": {
        "id": "bUy8rIqVNi2C"
      },
      "source": [
        "#### After knowing which columns represent categorical data, let's see the counts of each value in these columns"
      ]
    },
    {
      "cell_type": "code",
      "metadata": {
        "id": "GLUzbb0SNi2E",
        "colab": {
          "base_uri": "https://localhost:8080/"
        },
        "outputId": "e169645f-591c-4a6f-a6a3-9f2ae996568f"
      },
      "source": [
        "df_cat=df[['hotel','is_canceled','arrival_date_month','meal','country','market_segment','distribution_channel','is_repeated_guest','reserved_room_type','assigned_room_type','deposit_type','customer_type','reservation_status']]\n",
        "\n",
        "for i in df_cat.columns:\n",
        "    x = df_cat[i].value_counts()\n",
        "    print(\"Column name is:\",i,\"and its value counts are:\")\n",
        "    print(x)\n",
        "    print()"
      ],
      "execution_count": null,
      "outputs": [
        {
          "output_type": "stream",
          "text": [
            "Column name is: hotel and its value counts are:\n",
            "City Hotel      79330\n",
            "Resort Hotel    40060\n",
            "Name: hotel, dtype: int64\n",
            "\n",
            "Column name is: is_canceled and its value counts are:\n",
            "0    75166\n",
            "1    44224\n",
            "Name: is_canceled, dtype: int64\n",
            "\n",
            "Column name is: arrival_date_month and its value counts are:\n",
            "August       13877\n",
            "July         12661\n",
            "May          11791\n",
            "October      11160\n",
            "April        11089\n",
            "June         10939\n",
            "September    10508\n",
            "March         9794\n",
            "February      8068\n",
            "November      6794\n",
            "December      6780\n",
            "January       5929\n",
            "Name: arrival_date_month, dtype: int64\n",
            "\n",
            "Column name is: meal and its value counts are:\n",
            "BB           92310\n",
            "HB           14463\n",
            "SC           10650\n",
            "Undefined     1169\n",
            "FB             798\n",
            "Name: meal, dtype: int64\n",
            "\n",
            "Column name is: country and its value counts are:\n",
            "PRT    48590\n",
            "GBR    12129\n",
            "FRA    10415\n",
            "ESP     8568\n",
            "DEU     7287\n",
            "       ...  \n",
            "ASM        1\n",
            "NPL        1\n",
            "AIA        1\n",
            "PLW        1\n",
            "BDI        1\n",
            "Name: country, Length: 177, dtype: int64\n",
            "\n",
            "Column name is: market_segment and its value counts are:\n",
            "Online TA        56477\n",
            "Offline TA/TO    24219\n",
            "Groups           19811\n",
            "Direct           12606\n",
            "Corporate         5295\n",
            "Complementary      743\n",
            "Aviation           237\n",
            "Undefined            2\n",
            "Name: market_segment, dtype: int64\n",
            "\n",
            "Column name is: distribution_channel and its value counts are:\n",
            "TA/TO        97870\n",
            "Direct       14645\n",
            "Corporate     6677\n",
            "GDS            193\n",
            "Undefined        5\n",
            "Name: distribution_channel, dtype: int64\n",
            "\n",
            "Column name is: is_repeated_guest and its value counts are:\n",
            "0    115580\n",
            "1      3810\n",
            "Name: is_repeated_guest, dtype: int64\n",
            "\n",
            "Column name is: reserved_room_type and its value counts are:\n",
            "A    85994\n",
            "D    19201\n",
            "E     6535\n",
            "F     2897\n",
            "G     2094\n",
            "B     1118\n",
            "C      932\n",
            "H      601\n",
            "P       12\n",
            "L        6\n",
            "Name: reserved_room_type, dtype: int64\n",
            "\n",
            "Column name is: assigned_room_type and its value counts are:\n",
            "A    74053\n",
            "D    25322\n",
            "E     7806\n",
            "F     3751\n",
            "G     2553\n",
            "C     2375\n",
            "B     2163\n",
            "H      712\n",
            "I      363\n",
            "K      279\n",
            "P       12\n",
            "L        1\n",
            "Name: assigned_room_type, dtype: int64\n",
            "\n",
            "Column name is: deposit_type and its value counts are:\n",
            "No Deposit    104641\n",
            "Non Refund     14587\n",
            "Refundable       162\n",
            "Name: deposit_type, dtype: int64\n",
            "\n",
            "Column name is: customer_type and its value counts are:\n",
            "Transient          89613\n",
            "Transient-Party    25124\n",
            "Contract            4076\n",
            "Group                577\n",
            "Name: customer_type, dtype: int64\n",
            "\n",
            "Column name is: reservation_status and its value counts are:\n",
            "Check-Out    75166\n",
            "Canceled     43017\n",
            "No-Show       1207\n",
            "Name: reservation_status, dtype: int64\n",
            "\n"
          ],
          "name": "stdout"
        }
      ]
    },
    {
      "cell_type": "markdown",
      "metadata": {
        "id": "EGizoG9YNi2E"
      },
      "source": [
        "#### After knowing which columns represent numerical values, lets describe these columns statistically."
      ]
    },
    {
      "cell_type": "code",
      "metadata": {
        "id": "nffFGycrNi2E",
        "colab": {
          "base_uri": "https://localhost:8080/",
          "height": 315
        },
        "outputId": "36b916d2-f35c-4e8b-8e14-f64662030744"
      },
      "source": [
        "df_numerical=df[['lead_time','arrival_date_year','arrival_date_week_number','arrival_date_day_of_month','stays_in_weekend_nights','stays_in_week_nights','adults','children','babies','previous_cancellations','previous_bookings_not_canceled','booking_changes','agent','company','days_in_waiting_list','adr','required_car_parking_spaces','total_of_special_requests']]\n",
        "df_numerical.describe()"
      ],
      "execution_count": null,
      "outputs": [
        {
          "output_type": "execute_result",
          "data": {
            "text/html": [
              "<div>\n",
              "<style scoped>\n",
              "    .dataframe tbody tr th:only-of-type {\n",
              "        vertical-align: middle;\n",
              "    }\n",
              "\n",
              "    .dataframe tbody tr th {\n",
              "        vertical-align: top;\n",
              "    }\n",
              "\n",
              "    .dataframe thead th {\n",
              "        text-align: right;\n",
              "    }\n",
              "</style>\n",
              "<table border=\"1\" class=\"dataframe\">\n",
              "  <thead>\n",
              "    <tr style=\"text-align: right;\">\n",
              "      <th></th>\n",
              "      <th>lead_time</th>\n",
              "      <th>arrival_date_year</th>\n",
              "      <th>arrival_date_week_number</th>\n",
              "      <th>arrival_date_day_of_month</th>\n",
              "      <th>stays_in_weekend_nights</th>\n",
              "      <th>stays_in_week_nights</th>\n",
              "      <th>adults</th>\n",
              "      <th>children</th>\n",
              "      <th>babies</th>\n",
              "      <th>previous_cancellations</th>\n",
              "      <th>previous_bookings_not_canceled</th>\n",
              "      <th>booking_changes</th>\n",
              "      <th>agent</th>\n",
              "      <th>company</th>\n",
              "      <th>days_in_waiting_list</th>\n",
              "      <th>adr</th>\n",
              "      <th>required_car_parking_spaces</th>\n",
              "      <th>total_of_special_requests</th>\n",
              "    </tr>\n",
              "  </thead>\n",
              "  <tbody>\n",
              "    <tr>\n",
              "      <th>count</th>\n",
              "      <td>119390.000000</td>\n",
              "      <td>119390.000000</td>\n",
              "      <td>119390.000000</td>\n",
              "      <td>119390.000000</td>\n",
              "      <td>119390.000000</td>\n",
              "      <td>119390.000000</td>\n",
              "      <td>119390.000000</td>\n",
              "      <td>119386.000000</td>\n",
              "      <td>119390.000000</td>\n",
              "      <td>119390.000000</td>\n",
              "      <td>119390.000000</td>\n",
              "      <td>119390.000000</td>\n",
              "      <td>103050.000000</td>\n",
              "      <td>6797.000000</td>\n",
              "      <td>119390.000000</td>\n",
              "      <td>119390.000000</td>\n",
              "      <td>119390.000000</td>\n",
              "      <td>119390.000000</td>\n",
              "    </tr>\n",
              "    <tr>\n",
              "      <th>mean</th>\n",
              "      <td>104.011416</td>\n",
              "      <td>2016.156554</td>\n",
              "      <td>27.165173</td>\n",
              "      <td>15.798241</td>\n",
              "      <td>0.927599</td>\n",
              "      <td>2.500302</td>\n",
              "      <td>1.856403</td>\n",
              "      <td>0.103890</td>\n",
              "      <td>0.007949</td>\n",
              "      <td>0.087118</td>\n",
              "      <td>0.137097</td>\n",
              "      <td>0.221124</td>\n",
              "      <td>86.693382</td>\n",
              "      <td>189.266735</td>\n",
              "      <td>2.321149</td>\n",
              "      <td>101.831122</td>\n",
              "      <td>0.062518</td>\n",
              "      <td>0.571363</td>\n",
              "    </tr>\n",
              "    <tr>\n",
              "      <th>std</th>\n",
              "      <td>106.863097</td>\n",
              "      <td>0.707476</td>\n",
              "      <td>13.605138</td>\n",
              "      <td>8.780829</td>\n",
              "      <td>0.998613</td>\n",
              "      <td>1.908286</td>\n",
              "      <td>0.579261</td>\n",
              "      <td>0.398561</td>\n",
              "      <td>0.097436</td>\n",
              "      <td>0.844336</td>\n",
              "      <td>1.497437</td>\n",
              "      <td>0.652306</td>\n",
              "      <td>110.774548</td>\n",
              "      <td>131.655015</td>\n",
              "      <td>17.594721</td>\n",
              "      <td>50.535790</td>\n",
              "      <td>0.245291</td>\n",
              "      <td>0.792798</td>\n",
              "    </tr>\n",
              "    <tr>\n",
              "      <th>min</th>\n",
              "      <td>0.000000</td>\n",
              "      <td>2015.000000</td>\n",
              "      <td>1.000000</td>\n",
              "      <td>1.000000</td>\n",
              "      <td>0.000000</td>\n",
              "      <td>0.000000</td>\n",
              "      <td>0.000000</td>\n",
              "      <td>0.000000</td>\n",
              "      <td>0.000000</td>\n",
              "      <td>0.000000</td>\n",
              "      <td>0.000000</td>\n",
              "      <td>0.000000</td>\n",
              "      <td>1.000000</td>\n",
              "      <td>6.000000</td>\n",
              "      <td>0.000000</td>\n",
              "      <td>-6.380000</td>\n",
              "      <td>0.000000</td>\n",
              "      <td>0.000000</td>\n",
              "    </tr>\n",
              "    <tr>\n",
              "      <th>25%</th>\n",
              "      <td>18.000000</td>\n",
              "      <td>2016.000000</td>\n",
              "      <td>16.000000</td>\n",
              "      <td>8.000000</td>\n",
              "      <td>0.000000</td>\n",
              "      <td>1.000000</td>\n",
              "      <td>2.000000</td>\n",
              "      <td>0.000000</td>\n",
              "      <td>0.000000</td>\n",
              "      <td>0.000000</td>\n",
              "      <td>0.000000</td>\n",
              "      <td>0.000000</td>\n",
              "      <td>9.000000</td>\n",
              "      <td>62.000000</td>\n",
              "      <td>0.000000</td>\n",
              "      <td>69.290000</td>\n",
              "      <td>0.000000</td>\n",
              "      <td>0.000000</td>\n",
              "    </tr>\n",
              "    <tr>\n",
              "      <th>50%</th>\n",
              "      <td>69.000000</td>\n",
              "      <td>2016.000000</td>\n",
              "      <td>28.000000</td>\n",
              "      <td>16.000000</td>\n",
              "      <td>1.000000</td>\n",
              "      <td>2.000000</td>\n",
              "      <td>2.000000</td>\n",
              "      <td>0.000000</td>\n",
              "      <td>0.000000</td>\n",
              "      <td>0.000000</td>\n",
              "      <td>0.000000</td>\n",
              "      <td>0.000000</td>\n",
              "      <td>14.000000</td>\n",
              "      <td>179.000000</td>\n",
              "      <td>0.000000</td>\n",
              "      <td>94.575000</td>\n",
              "      <td>0.000000</td>\n",
              "      <td>0.000000</td>\n",
              "    </tr>\n",
              "    <tr>\n",
              "      <th>75%</th>\n",
              "      <td>160.000000</td>\n",
              "      <td>2017.000000</td>\n",
              "      <td>38.000000</td>\n",
              "      <td>23.000000</td>\n",
              "      <td>2.000000</td>\n",
              "      <td>3.000000</td>\n",
              "      <td>2.000000</td>\n",
              "      <td>0.000000</td>\n",
              "      <td>0.000000</td>\n",
              "      <td>0.000000</td>\n",
              "      <td>0.000000</td>\n",
              "      <td>0.000000</td>\n",
              "      <td>229.000000</td>\n",
              "      <td>270.000000</td>\n",
              "      <td>0.000000</td>\n",
              "      <td>126.000000</td>\n",
              "      <td>0.000000</td>\n",
              "      <td>1.000000</td>\n",
              "    </tr>\n",
              "    <tr>\n",
              "      <th>max</th>\n",
              "      <td>737.000000</td>\n",
              "      <td>2017.000000</td>\n",
              "      <td>53.000000</td>\n",
              "      <td>31.000000</td>\n",
              "      <td>19.000000</td>\n",
              "      <td>50.000000</td>\n",
              "      <td>55.000000</td>\n",
              "      <td>10.000000</td>\n",
              "      <td>10.000000</td>\n",
              "      <td>26.000000</td>\n",
              "      <td>72.000000</td>\n",
              "      <td>21.000000</td>\n",
              "      <td>535.000000</td>\n",
              "      <td>543.000000</td>\n",
              "      <td>391.000000</td>\n",
              "      <td>5400.000000</td>\n",
              "      <td>8.000000</td>\n",
              "      <td>5.000000</td>\n",
              "    </tr>\n",
              "  </tbody>\n",
              "</table>\n",
              "</div>"
            ],
            "text/plain": [
              "           lead_time  ...  total_of_special_requests\n",
              "count  119390.000000  ...              119390.000000\n",
              "mean      104.011416  ...                   0.571363\n",
              "std       106.863097  ...                   0.792798\n",
              "min         0.000000  ...                   0.000000\n",
              "25%        18.000000  ...                   0.000000\n",
              "50%        69.000000  ...                   0.000000\n",
              "75%       160.000000  ...                   1.000000\n",
              "max       737.000000  ...                   5.000000\n",
              "\n",
              "[8 rows x 18 columns]"
            ]
          },
          "metadata": {
            "tags": []
          },
          "execution_count": 12
        }
      ]
    },
    {
      "cell_type": "markdown",
      "metadata": {
        "id": "7ydzJrDONi2F"
      },
      "source": [
        "## 1.3 Visual exploratory data analysis"
      ]
    },
    {
      "cell_type": "markdown",
      "metadata": {
        "id": "DX5a_CvmNi2F"
      },
      "source": [
        "- Sometimes extreme values will stand out much more in a chart\n",
        "- We use histograms and boxplots for numerical data\n",
        "- We use bar plots for categorical data"
      ]
    },
    {
      "cell_type": "markdown",
      "metadata": {
        "id": "-yihhXuyNi2F"
      },
      "source": [
        "#### Visualizing Numerical columns"
      ]
    },
    {
      "cell_type": "code",
      "metadata": {
        "id": "b8Fr1bB6Ni2F",
        "colab": {
          "base_uri": "https://localhost:8080/",
          "height": 1000
        },
        "outputId": "0ab6af7f-0e26-4a94-8c23-f4df998032e5"
      },
      "source": [
        "df_numerical.hist(bins=30, figsize=(15, 20))"
      ],
      "execution_count": null,
      "outputs": [
        {
          "output_type": "execute_result",
          "data": {
            "text/plain": [
              "array([[<matplotlib.axes._subplots.AxesSubplot object at 0x7fa1cc18e750>,\n",
              "        <matplotlib.axes._subplots.AxesSubplot object at 0x7fa1cc158c10>,\n",
              "        <matplotlib.axes._subplots.AxesSubplot object at 0x7fa1cc1185d0>,\n",
              "        <matplotlib.axes._subplots.AxesSubplot object at 0x7fa1cc0cec50>],\n",
              "       [<matplotlib.axes._subplots.AxesSubplot object at 0x7fa1cc091310>,\n",
              "        <matplotlib.axes._subplots.AxesSubplot object at 0x7fa1cc046990>,\n",
              "        <matplotlib.axes._subplots.AxesSubplot object at 0x7fa1cbffbfd0>,\n",
              "        <matplotlib.axes._subplots.AxesSubplot object at 0x7fa1cbfbb690>],\n",
              "       [<matplotlib.axes._subplots.AxesSubplot object at 0x7fa1cbfbb6d0>,\n",
              "        <matplotlib.axes._subplots.AxesSubplot object at 0x7fa1cbf71e50>,\n",
              "        <matplotlib.axes._subplots.AxesSubplot object at 0x7fa1cbee9a90>,\n",
              "        <matplotlib.axes._subplots.AxesSubplot object at 0x7fa1cbeac150>],\n",
              "       [<matplotlib.axes._subplots.AxesSubplot object at 0x7fa1cbe627d0>,\n",
              "        <matplotlib.axes._subplots.AxesSubplot object at 0x7fa1cbe95e50>,\n",
              "        <matplotlib.axes._subplots.AxesSubplot object at 0x7fa1cbe57510>,\n",
              "        <matplotlib.axes._subplots.AxesSubplot object at 0x7fa1cbe0cb90>],\n",
              "       [<matplotlib.axes._subplots.AxesSubplot object at 0x7fa1cbdcf250>,\n",
              "        <matplotlib.axes._subplots.AxesSubplot object at 0x7fa1cbd858d0>,\n",
              "        <matplotlib.axes._subplots.AxesSubplot object at 0x7fa1cbd3bf50>,\n",
              "        <matplotlib.axes._subplots.AxesSubplot object at 0x7fa1cbcfb610>]],\n",
              "      dtype=object)"
            ]
          },
          "metadata": {
            "tags": []
          },
          "execution_count": 13
        },
        {
          "output_type": "display_data",
          "data": {
            "image/png": "[encoded data removed]",
            "text/plain": [
              "<Figure size 1080x1440 with 20 Axes>"
            ]
          },
          "metadata": {
            "tags": [],
            "needs_background": "light"
          }
        }
      ]
    },
    {
      "cell_type": "code",
      "metadata": {
        "id": "IAMJ5wsfNi2G",
        "colab": {
          "base_uri": "https://localhost:8080/",
          "height": 1000
        },
        "outputId": "619e868e-f297-4779-aedb-a88ef9cd7c1c"
      },
      "source": [
        "for column in df_numerical:\n",
        "    plt.figure()\n",
        "    df.boxplot([column])"
      ],
      "execution_count": null,
      "outputs": [
        {
          "output_type": "display_data",
          "data": {
            "image/png": "[encoded data removed]",
            "text/plain": [
              "<Figure size 432x288 with 1 Axes>"
            ]
          },
          "metadata": {
            "tags": [],
            "needs_background": "light"
          }
        },
        {
          "output_type": "display_data",
          "data": {
            "image/png": "[encoded data removed]",
            "text/plain": [
              "<Figure size 432x288 with 1 Axes>"
            ]
          },
          "metadata": {
            "tags": [],
            "needs_background": "light"
          }
        },
        {
          "output_type": "display_data",
          "data": {
            "image/png": "[encoded data removed]",
            "text/plain": [
              "<Figure size 432x288 with 1 Axes>"
            ]
          },
          "metadata": {
            "tags": [],
            "needs_background": "light"
          }
        },
        {
          "output_type": "display_data",
          "data": {
            "image/png": "[encoded data removed]",
            "text/plain": [
              "<Figure size 432x288 with 1 Axes>"
            ]
          },
          "metadata": {
            "tags": [],
            "needs_background": "light"
          }
        },
        {
          "output_type": "display_data",
          "data": {
            "image/png": "[encoded data removed]",
            "text/plain": [
              "<Figure size 432x288 with 1 Axes>"
            ]
          },
          "metadata": {
            "tags": [],
            "needs_background": "light"
          }
        },
        {
          "output_type": "display_data",
          "data": {
            "image/png": "[encoded data removed]",
            "text/plain": [
              "<Figure size 432x288 with 1 Axes>"
            ]
          },
          "metadata": {
            "tags": [],
            "needs_background": "light"
          }
        },
        {
          "output_type": "display_data",
          "data": {
            "image/png": "[encoded data removed]",
            "text/plain": [
              "<Figure size 432x288 with 1 Axes>"
            ]
          },
          "metadata": {
            "tags": [],
            "needs_background": "light"
          }
        },
        {
          "output_type": "display_data",
          "data": {
            "image/png": "[encoded data removed]",
            "text/plain": [
              "<Figure size 432x288 with 1 Axes>"
            ]
          },
          "metadata": {
            "tags": [],
            "needs_background": "light"
          }
        },
        {
          "output_type": "display_data",
          "data": {
            "image/png": "[encoded data removed]",
            "text/plain": [
              "<Figure size 432x288 with 1 Axes>"
            ]
          },
          "metadata": {
            "tags": [],
            "needs_background": "light"
          }
        },
        {
          "output_type": "display_data",
          "data": {
            "image/png": "[encoded data removed]",
            "text/plain": [
              "<Figure size 432x288 with 1 Axes>"
            ]
          },
          "metadata": {
            "tags": [],
            "needs_background": "light"
          }
        },
        {
          "output_type": "display_data",
          "data": {
            "image/png": "[encoded data removed]",
            "text/plain": [
              "<Figure size 432x288 with 1 Axes>"
            ]
          },
          "metadata": {
            "tags": [],
            "needs_background": "light"
          }
        },
        {
          "output_type": "display_data",
          "data": {
            "image/png": "[encoded data removed]",
            "text/plain": [
              "<Figure size 432x288 with 1 Axes>"
            ]
          },
          "metadata": {
            "tags": [],
            "needs_background": "light"
          }
        },
        {
          "output_type": "display_data",
          "data": {
            "image/png": "[encoded data removed]",
            "text/plain": [
              "<Figure size 432x288 with 1 Axes>"
            ]
          },
          "metadata": {
            "tags": [],
            "needs_background": "light"
          }
        },
        {
          "output_type": "display_data",
          "data": {
            "image/png": "[encoded data removed]",
            "text/plain": [
              "<Figure size 432x288 with 1 Axes>"
            ]
          },
          "metadata": {
            "tags": [],
            "needs_background": "light"
          }
        },
        {
          "output_type": "display_data",
          "data": {
            "image/png": "[encoded data removed]",
            "text/plain": [
              "<Figure size 432x288 with 1 Axes>"
            ]
          },
          "metadata": {
            "tags": [],
            "needs_background": "light"
          }
        },
        {
          "output_type": "display_data",
          "data": {
            "image/png": "[encoded data removed]",
            "text/plain": [
              "<Figure size 432x288 with 1 Axes>"
            ]
          },
          "metadata": {
            "tags": [],
            "needs_background": "light"
          }
        },
        {
          "output_type": "display_data",
          "data": {
            "image/png": "[encoded data removed]",
            "text/plain": [
              "<Figure size 432x288 with 1 Axes>"
            ]
          },
          "metadata": {
            "tags": [],
            "needs_background": "light"
          }
        },
        {
          "output_type": "display_data",
          "data": {
            "image/png": "[encoded data removed]",
            "text/plain": [
              "<Figure size 432x288 with 1 Axes>"
            ]
          },
          "metadata": {
            "tags": [],
            "needs_background": "light"
          }
        }
      ]
    },
    {
      "cell_type": "markdown",
      "metadata": {
        "id": "hqadSWv2Ni2H"
      },
      "source": [
        "Most of the data columns centered around one value, which are:\n",
        "    - previous_cancellations\n",
        "    - days_in_waiting_list\n",
        "    - required_car_parking_spaces\n",
        "    - previous_bookings_not_canceled\n",
        "    - booking_changes\n",
        "    - children\n",
        "    - babies\n",
        "    - adr\n",
        "    - adult"
      ]
    },
    {
      "cell_type": "markdown",
      "metadata": {
        "id": "uoio0rcuNi2H"
      },
      "source": [
        "#### Visualizing Categorical Data"
      ]
    },
    {
      "cell_type": "code",
      "metadata": {
        "id": "0w-JK2eGNi2H",
        "colab": {
          "base_uri": "https://localhost:8080/",
          "height": 1000
        },
        "outputId": "03a64250-751e-4965-a0ca-c86a45f9551a"
      },
      "source": [
        "subplot_num=520\n",
        "i=1\n",
        "plt.figure(figsize=(10,35))\n",
        "for col in df_cat.columns:\n",
        "    if i==9:\n",
        "        plt.show()\n",
        "        plt.figure(figsize=(10,35))\n",
        "        subplot_num=420\n",
        "        i=1\n",
        "    if col=='country':\n",
        "        continue\n",
        "    plt.subplot(subplot_num+i)\n",
        "    i=i+1\n",
        "    df_cat[col].value_counts().plot.bar(title= col)"
      ],
      "execution_count": null,
      "outputs": [
        {
          "output_type": "display_data",
          "data": {
            "image/png": "[encoded data removed]",
            "text/plain": [
              "<Figure size 720x2520 with 8 Axes>"
            ]
          },
          "metadata": {
            "tags": [],
            "needs_background": "light"
          }
        },
        {
          "output_type": "display_data",
          "data": {
            "image/png": "[encoded data removed]",
            "text/plain": [
              "<Figure size 720x2520 with 4 Axes>"
            ]
          },
          "metadata": {
            "tags": [],
            "needs_background": "light"
          }
        }
      ]
    },
    {
      "cell_type": "markdown",
      "metadata": {
        "id": "9_lA9iE9Ni2I"
      },
      "source": [
        "# 2. Cleaning data for analysis\n",
        "- Fix Structure Error for categorical and numerical data\n",
        "- Deal with Duplicate and missing data\n"
      ]
    },
    {
      "cell_type": "markdown",
      "metadata": {
        "id": "h1WuqFQaNi2J"
      },
      "source": [
        "## 2.1 Fix Structure Error"
      ]
    },
    {
      "cell_type": "markdown",
      "metadata": {
        "id": "-AydoDLHNi2J"
      },
      "source": [
        "1. Categorical Data\n",
        "    - Converting categorical data to 'category' dtype:\n",
        "    - This makes the DataFrame smaller in memory\n",
        "    - This makes these columns suitable to be utilized by other Python libraries for analysis\n",
        "<br><br>\n",
        "2. Numerical data\n",
        "    - If you expect the data type of a column to be numeric (int or float), but instead it is of type object, this typically means that there is a non numeric value in the column, which also signifies bad data.\n",
        "    - You can either use the some techniques to do some exploratory data analysis and find the bad value, or you can choose to ignore or coerce the value into a missing value, NaN.\n"
      ]
    },
    {
      "cell_type": "markdown",
      "metadata": {
        "id": "bb60pxGNNi2J"
      },
      "source": [
        "### Fix data type"
      ]
    },
    {
      "cell_type": "markdown",
      "metadata": {
        "id": "uLAwweuhNi2K"
      },
      "source": [
        "#### Categorical data type"
      ]
    },
    {
      "cell_type": "markdown",
      "metadata": {
        "id": "j75GJQ-r9jmm"
      },
      "source": [
        "The *category data type* in Python will continue to look like a string character to us and in many places will behave like a string (or object) type; however, it is internally being represented by integer values, unique to each category.\n",
        "\n",
        "Here's how we change to the category dtype"
      ]
    },
    {
      "cell_type": "code",
      "metadata": {
        "id": "ik66kS2YNi2K",
        "colab": {
          "base_uri": "https://localhost:8080/"
        },
        "outputId": "32349965-c942-408b-d3a7-b9f77a9acc20"
      },
      "source": [
        "for col in df_cat.columns:\n",
        "    df_cat[col] = df_cat[col].astype('category')"
      ],
      "execution_count": null,
      "outputs": [
        {
          "output_type": "stream",
          "text": [
            "/usr/local/lib/python3.7/dist-packages/ipykernel_launcher.py:2: SettingWithCopyWarning: \n",
            "A value is trying to be set on a copy of a slice from a DataFrame.\n",
            "Try using .loc[row_indexer,col_indexer] = value instead\n",
            "\n",
            "See the caveats in the documentation: https://pandas.pydata.org/pandas-docs/stable/user_guide/indexing.html#returning-a-view-versus-a-copy\n",
            "  \n"
          ],
          "name": "stderr"
        }
      ]
    },
    {
      "cell_type": "markdown",
      "metadata": {
        "id": "3PHVGIXTQEdQ"
      },
      "source": [
        "Below, we confirm that the dtype has changed to category:"
      ]
    },
    {
      "cell_type": "code",
      "metadata": {
        "id": "Lu6HzkeYNi2K",
        "colab": {
          "base_uri": "https://localhost:8080/"
        },
        "outputId": "eb6d0d1d-cfac-43f0-92ea-7a5ceaf19e77"
      },
      "source": [
        "df_cat.info()"
      ],
      "execution_count": null,
      "outputs": [
        {
          "output_type": "stream",
          "text": [
            "<class 'pandas.core.frame.DataFrame'>\n",
            "RangeIndex: 119390 entries, 0 to 119389\n",
            "Data columns (total 13 columns):\n",
            " #   Column                Non-Null Count   Dtype   \n",
            "---  ------                --------------   -----   \n",
            " 0   hotel                 119390 non-null  category\n",
            " 1   is_canceled           119390 non-null  category\n",
            " 2   arrival_date_month    119390 non-null  category\n",
            " 3   meal                  119390 non-null  category\n",
            " 4   country               118902 non-null  category\n",
            " 5   market_segment        119390 non-null  category\n",
            " 6   distribution_channel  119390 non-null  category\n",
            " 7   is_repeated_guest     119390 non-null  category\n",
            " 8   reserved_room_type    119390 non-null  category\n",
            " 9   assigned_room_type    119390 non-null  category\n",
            " 10  deposit_type          119390 non-null  category\n",
            " 11  customer_type         119390 non-null  category\n",
            " 12  reservation_status    119390 non-null  category\n",
            "dtypes: category(13)\n",
            "memory usage: 1.6 MB\n"
          ],
          "name": "stdout"
        }
      ]
    },
    {
      "cell_type": "markdown",
      "metadata": {
        "id": "OIPXucxDNi2L"
      },
      "source": [
        "#### Numerical data type\n",
        "- convert float to int"
      ]
    },
    {
      "cell_type": "code",
      "metadata": {
        "id": "YH_jRoB7Ni2M",
        "colab": {
          "base_uri": "https://localhost:8080/",
          "height": 354
        },
        "outputId": "4df246d4-fe4a-425f-e15a-d57a9077f53c"
      },
      "source": [
        "#df_numerical.children=df_numerical.children.astype(int)\n",
        "#df_numerical.company=df_numerical.company.astype(int)\n",
        "#df_numerical.agent=df_numerical.agent.astype(int)"
      ],
      "execution_count": null,
      "outputs": [
        {
          "output_type": "error",
          "ename": "ValueError",
          "evalue": "ignored",
          "traceback": [
            "\u001b[0;31m---------------------------------------------------------------------------\u001b[0m",
            "\u001b[0;31mValueError\u001b[0m                                Traceback (most recent call last)",
            "\u001b[0;32m<ipython-input-18-5072562ea50f>\u001b[0m in \u001b[0;36m<module>\u001b[0;34m()\u001b[0m\n\u001b[0;32m----> 1\u001b[0;31m \u001b[0mdf_numerical\u001b[0m\u001b[0;34m.\u001b[0m\u001b[0mchildren\u001b[0m\u001b[0;34m=\u001b[0m\u001b[0mdf_numerical\u001b[0m\u001b[0;34m.\u001b[0m\u001b[0mchildren\u001b[0m\u001b[0;34m.\u001b[0m\u001b[0mastype\u001b[0m\u001b[0;34m(\u001b[0m\u001b[0mint\u001b[0m\u001b[0;34m)\u001b[0m\u001b[0;34m\u001b[0m\u001b[0;34m\u001b[0m\u001b[0m\n\u001b[0m\u001b[1;32m      2\u001b[0m \u001b[0;31m#df_numerical.company=df_numerical.company.astype(int)\u001b[0m\u001b[0;34m\u001b[0m\u001b[0;34m\u001b[0m\u001b[0;34m\u001b[0m\u001b[0m\n\u001b[1;32m      3\u001b[0m \u001b[0;31m#df_numerical.agent=df_numerical.agent.astype(int)\u001b[0m\u001b[0;34m\u001b[0m\u001b[0;34m\u001b[0m\u001b[0;34m\u001b[0m\u001b[0m\n",
            "\u001b[0;32m/usr/local/lib/python3.7/dist-packages/pandas/core/generic.py\u001b[0m in \u001b[0;36mastype\u001b[0;34m(self, dtype, copy, errors)\u001b[0m\n\u001b[1;32m   5546\u001b[0m         \u001b[0;32melse\u001b[0m\u001b[0;34m:\u001b[0m\u001b[0;34m\u001b[0m\u001b[0;34m\u001b[0m\u001b[0m\n\u001b[1;32m   5547\u001b[0m             \u001b[0;31m# else, only a single dtype is given\u001b[0m\u001b[0;34m\u001b[0m\u001b[0;34m\u001b[0m\u001b[0;34m\u001b[0m\u001b[0m\n\u001b[0;32m-> 5548\u001b[0;31m             \u001b[0mnew_data\u001b[0m \u001b[0;34m=\u001b[0m \u001b[0mself\u001b[0m\u001b[0;34m.\u001b[0m\u001b[0m_mgr\u001b[0m\u001b[0;34m.\u001b[0m\u001b[0mastype\u001b[0m\u001b[0;34m(\u001b[0m\u001b[0mdtype\u001b[0m\u001b[0;34m=\u001b[0m\u001b[0mdtype\u001b[0m\u001b[0;34m,\u001b[0m \u001b[0mcopy\u001b[0m\u001b[0;34m=\u001b[0m\u001b[0mcopy\u001b[0m\u001b[0;34m,\u001b[0m \u001b[0merrors\u001b[0m\u001b[0;34m=\u001b[0m\u001b[0merrors\u001b[0m\u001b[0;34m,\u001b[0m\u001b[0;34m)\u001b[0m\u001b[0;34m\u001b[0m\u001b[0;34m\u001b[0m\u001b[0m\n\u001b[0m\u001b[1;32m   5549\u001b[0m             \u001b[0;32mreturn\u001b[0m \u001b[0mself\u001b[0m\u001b[0;34m.\u001b[0m\u001b[0m_constructor\u001b[0m\u001b[0;34m(\u001b[0m\u001b[0mnew_data\u001b[0m\u001b[0;34m)\u001b[0m\u001b[0;34m.\u001b[0m\u001b[0m__finalize__\u001b[0m\u001b[0;34m(\u001b[0m\u001b[0mself\u001b[0m\u001b[0;34m,\u001b[0m \u001b[0mmethod\u001b[0m\u001b[0;34m=\u001b[0m\u001b[0;34m\"astype\"\u001b[0m\u001b[0;34m)\u001b[0m\u001b[0;34m\u001b[0m\u001b[0;34m\u001b[0m\u001b[0m\n\u001b[1;32m   5550\u001b[0m \u001b[0;34m\u001b[0m\u001b[0m\n",
            "\u001b[0;32m/usr/local/lib/python3.7/dist-packages/pandas/core/internals/managers.py\u001b[0m in \u001b[0;36mastype\u001b[0;34m(self, dtype, copy, errors)\u001b[0m\n\u001b[1;32m    602\u001b[0m         \u001b[0mself\u001b[0m\u001b[0;34m,\u001b[0m \u001b[0mdtype\u001b[0m\u001b[0;34m,\u001b[0m \u001b[0mcopy\u001b[0m\u001b[0;34m:\u001b[0m \u001b[0mbool\u001b[0m \u001b[0;34m=\u001b[0m \u001b[0;32mFalse\u001b[0m\u001b[0;34m,\u001b[0m \u001b[0merrors\u001b[0m\u001b[0;34m:\u001b[0m \u001b[0mstr\u001b[0m \u001b[0;34m=\u001b[0m \u001b[0;34m\"raise\"\u001b[0m\u001b[0;34m\u001b[0m\u001b[0;34m\u001b[0m\u001b[0m\n\u001b[1;32m    603\u001b[0m     ) -> \"BlockManager\":\n\u001b[0;32m--> 604\u001b[0;31m         \u001b[0;32mreturn\u001b[0m \u001b[0mself\u001b[0m\u001b[0;34m.\u001b[0m\u001b[0mapply\u001b[0m\u001b[0;34m(\u001b[0m\u001b[0;34m\"astype\"\u001b[0m\u001b[0;34m,\u001b[0m \u001b[0mdtype\u001b[0m\u001b[0;34m=\u001b[0m\u001b[0mdtype\u001b[0m\u001b[0;34m,\u001b[0m \u001b[0mcopy\u001b[0m\u001b[0;34m=\u001b[0m\u001b[0mcopy\u001b[0m\u001b[0;34m,\u001b[0m \u001b[0merrors\u001b[0m\u001b[0;34m=\u001b[0m\u001b[0merrors\u001b[0m\u001b[0;34m)\u001b[0m\u001b[0;34m\u001b[0m\u001b[0;34m\u001b[0m\u001b[0m\n\u001b[0m\u001b[1;32m    605\u001b[0m \u001b[0;34m\u001b[0m\u001b[0m\n\u001b[1;32m    606\u001b[0m     def convert(\n",
            "\u001b[0;32m/usr/local/lib/python3.7/dist-packages/pandas/core/internals/managers.py\u001b[0m in \u001b[0;36mapply\u001b[0;34m(self, f, align_keys, **kwargs)\u001b[0m\n\u001b[1;32m    407\u001b[0m                 \u001b[0mapplied\u001b[0m \u001b[0;34m=\u001b[0m \u001b[0mb\u001b[0m\u001b[0;34m.\u001b[0m\u001b[0mapply\u001b[0m\u001b[0;34m(\u001b[0m\u001b[0mf\u001b[0m\u001b[0;34m,\u001b[0m \u001b[0;34m**\u001b[0m\u001b[0mkwargs\u001b[0m\u001b[0;34m)\u001b[0m\u001b[0;34m\u001b[0m\u001b[0;34m\u001b[0m\u001b[0m\n\u001b[1;32m    408\u001b[0m             \u001b[0;32melse\u001b[0m\u001b[0;34m:\u001b[0m\u001b[0;34m\u001b[0m\u001b[0;34m\u001b[0m\u001b[0m\n\u001b[0;32m--> 409\u001b[0;31m                 \u001b[0mapplied\u001b[0m \u001b[0;34m=\u001b[0m \u001b[0mgetattr\u001b[0m\u001b[0;34m(\u001b[0m\u001b[0mb\u001b[0m\u001b[0;34m,\u001b[0m \u001b[0mf\u001b[0m\u001b[0;34m)\u001b[0m\u001b[0;34m(\u001b[0m\u001b[0;34m**\u001b[0m\u001b[0mkwargs\u001b[0m\u001b[0;34m)\u001b[0m\u001b[0;34m\u001b[0m\u001b[0;34m\u001b[0m\u001b[0m\n\u001b[0m\u001b[1;32m    410\u001b[0m             \u001b[0mresult_blocks\u001b[0m \u001b[0;34m=\u001b[0m \u001b[0m_extend_blocks\u001b[0m\u001b[0;34m(\u001b[0m\u001b[0mapplied\u001b[0m\u001b[0;34m,\u001b[0m \u001b[0mresult_blocks\u001b[0m\u001b[0;34m)\u001b[0m\u001b[0;34m\u001b[0m\u001b[0;34m\u001b[0m\u001b[0m\n\u001b[1;32m    411\u001b[0m \u001b[0;34m\u001b[0m\u001b[0m\n",
            "\u001b[0;32m/usr/local/lib/python3.7/dist-packages/pandas/core/internals/blocks.py\u001b[0m in \u001b[0;36mastype\u001b[0;34m(self, dtype, copy, errors)\u001b[0m\n\u001b[1;32m    593\u001b[0m             \u001b[0mvals1d\u001b[0m \u001b[0;34m=\u001b[0m \u001b[0mvalues\u001b[0m\u001b[0;34m.\u001b[0m\u001b[0mravel\u001b[0m\u001b[0;34m(\u001b[0m\u001b[0;34m)\u001b[0m\u001b[0;34m\u001b[0m\u001b[0;34m\u001b[0m\u001b[0m\n\u001b[1;32m    594\u001b[0m             \u001b[0;32mtry\u001b[0m\u001b[0;34m:\u001b[0m\u001b[0;34m\u001b[0m\u001b[0;34m\u001b[0m\u001b[0m\n\u001b[0;32m--> 595\u001b[0;31m                 \u001b[0mvalues\u001b[0m \u001b[0;34m=\u001b[0m \u001b[0mastype_nansafe\u001b[0m\u001b[0;34m(\u001b[0m\u001b[0mvals1d\u001b[0m\u001b[0;34m,\u001b[0m \u001b[0mdtype\u001b[0m\u001b[0;34m,\u001b[0m \u001b[0mcopy\u001b[0m\u001b[0;34m=\u001b[0m\u001b[0;32mTrue\u001b[0m\u001b[0;34m)\u001b[0m\u001b[0;34m\u001b[0m\u001b[0;34m\u001b[0m\u001b[0m\n\u001b[0m\u001b[1;32m    596\u001b[0m             \u001b[0;32mexcept\u001b[0m \u001b[0;34m(\u001b[0m\u001b[0mValueError\u001b[0m\u001b[0;34m,\u001b[0m \u001b[0mTypeError\u001b[0m\u001b[0;34m)\u001b[0m\u001b[0;34m:\u001b[0m\u001b[0;34m\u001b[0m\u001b[0;34m\u001b[0m\u001b[0m\n\u001b[1;32m    597\u001b[0m                 \u001b[0;31m# e.g. astype_nansafe can fail on object-dtype of strings\u001b[0m\u001b[0;34m\u001b[0m\u001b[0;34m\u001b[0m\u001b[0;34m\u001b[0m\u001b[0m\n",
            "\u001b[0;32m/usr/local/lib/python3.7/dist-packages/pandas/core/dtypes/cast.py\u001b[0m in \u001b[0;36mastype_nansafe\u001b[0;34m(arr, dtype, copy, skipna)\u001b[0m\n\u001b[1;32m    966\u001b[0m \u001b[0;34m\u001b[0m\u001b[0m\n\u001b[1;32m    967\u001b[0m         \u001b[0;32mif\u001b[0m \u001b[0;32mnot\u001b[0m \u001b[0mnp\u001b[0m\u001b[0;34m.\u001b[0m\u001b[0misfinite\u001b[0m\u001b[0;34m(\u001b[0m\u001b[0marr\u001b[0m\u001b[0;34m)\u001b[0m\u001b[0;34m.\u001b[0m\u001b[0mall\u001b[0m\u001b[0;34m(\u001b[0m\u001b[0;34m)\u001b[0m\u001b[0;34m:\u001b[0m\u001b[0;34m\u001b[0m\u001b[0;34m\u001b[0m\u001b[0m\n\u001b[0;32m--> 968\u001b[0;31m             \u001b[0;32mraise\u001b[0m \u001b[0mValueError\u001b[0m\u001b[0;34m(\u001b[0m\u001b[0;34m\"Cannot convert non-finite values (NA or inf) to integer\"\u001b[0m\u001b[0;34m)\u001b[0m\u001b[0;34m\u001b[0m\u001b[0;34m\u001b[0m\u001b[0m\n\u001b[0m\u001b[1;32m    969\u001b[0m \u001b[0;34m\u001b[0m\u001b[0m\n\u001b[1;32m    970\u001b[0m     \u001b[0;32melif\u001b[0m \u001b[0mis_object_dtype\u001b[0m\u001b[0;34m(\u001b[0m\u001b[0marr\u001b[0m\u001b[0;34m)\u001b[0m\u001b[0;34m:\u001b[0m\u001b[0;34m\u001b[0m\u001b[0;34m\u001b[0m\u001b[0m\n",
            "\u001b[0;31mValueError\u001b[0m: Cannot convert non-finite values (NA or inf) to integer"
          ]
        }
      ]
    },
    {
      "cell_type": "markdown",
      "metadata": {
        "id": "K7hV0dKZNi2M"
      },
      "source": [
        "Running the code result in exception since we have missing values in children, company and agent columns. Hence, we need to handle missing values before converting to int."
      ]
    },
    {
      "cell_type": "markdown",
      "metadata": {
        "id": "-4igY6ruNi2M"
      },
      "source": [
        "### Clean String Values\n",
        "\n",
        "Column meal has 4 category: BB, HB, FB, SC, undefined, whereas SC and undefined belong to same category, so we need to group them together."
      ]
    },
    {
      "cell_type": "code",
      "metadata": {
        "id": "eAAuNB2mNi2N",
        "colab": {
          "base_uri": "https://localhost:8080/"
        },
        "outputId": "f6f0aaca-a65c-403e-94e8-7e2006a48904"
      },
      "source": [
        "df_cat.meal= df_cat.meal.str.replace('SC','Undefined')"
      ],
      "execution_count": null,
      "outputs": [
        {
          "output_type": "stream",
          "text": [
            "/usr/local/lib/python3.7/dist-packages/pandas/core/generic.py:5170: SettingWithCopyWarning: \n",
            "A value is trying to be set on a copy of a slice from a DataFrame.\n",
            "Try using .loc[row_indexer,col_indexer] = value instead\n",
            "\n",
            "See the caveats in the documentation: https://pandas.pydata.org/pandas-docs/stable/user_guide/indexing.html#returning-a-view-versus-a-copy\n",
            "  self[name] = value\n"
          ],
          "name": "stderr"
        }
      ]
    },
    {
      "cell_type": "code",
      "metadata": {
        "id": "RUycl6pINi2O",
        "colab": {
          "base_uri": "https://localhost:8080/"
        },
        "outputId": "476515f9-9056-4609-e6be-0d663bd9c64c"
      },
      "source": [
        "df_cat.meal.value_counts()"
      ],
      "execution_count": null,
      "outputs": [
        {
          "output_type": "execute_result",
          "data": {
            "text/plain": [
              "BB           92310\n",
              "HB           14463\n",
              "Undefined    11819\n",
              "FB             798\n",
              "Name: meal, dtype: int64"
            ]
          },
          "metadata": {
            "tags": []
          },
          "execution_count": 20
        }
      ]
    },
    {
      "cell_type": "markdown",
      "metadata": {
        "id": "pH_Uu7NBNi2O"
      },
      "source": [
        "## 2.2 Duplicate and missing data"
      ]
    },
    {
      "cell_type": "markdown",
      "metadata": {
        "id": "pTB6ZrNDNi2O"
      },
      "source": [
        "### Check duplicates"
      ]
    },
    {
      "cell_type": "markdown",
      "metadata": {
        "id": "mMyXEBiRQUNP"
      },
      "source": [
        "Here we chack if there's any duplicated row inside of the dataset"
      ]
    },
    {
      "cell_type": "code",
      "metadata": {
        "id": "dIuqcNr8Ni2O",
        "colab": {
          "base_uri": "https://localhost:8080/"
        },
        "outputId": "92f87606-99d1-4f13-eff3-3b47f31d4b0b"
      },
      "source": [
        "print(df_numerical.duplicated(subset=None, keep='first').any())\n",
        "print(df_cat.duplicated(subset=None, keep='first').any())"
      ],
      "execution_count": null,
      "outputs": [
        {
          "output_type": "stream",
          "text": [
            "True\n",
            "True\n"
          ],
          "name": "stdout"
        }
      ]
    },
    {
      "cell_type": "markdown",
      "metadata": {
        "id": "Pfm5A4IONi2Q"
      },
      "source": [
        "### Remove duplicates"
      ]
    },
    {
      "cell_type": "markdown",
      "metadata": {
        "id": "P3yvEmtgQamE"
      },
      "source": [
        "Since there are duplicates, we need to remove them"
      ]
    },
    {
      "cell_type": "code",
      "metadata": {
        "id": "s0tGtrUINi2R",
        "colab": {
          "base_uri": "https://localhost:8080/"
        },
        "outputId": "fa89ae2d-81b8-4861-ed90-298506553751"
      },
      "source": [
        "df_numerical.drop_duplicates(subset=None, keep='first', inplace = True)\n",
        "df_cat.drop_duplicates(subset=None, keep='first', inplace = True)"
      ],
      "execution_count": null,
      "outputs": [
        {
          "output_type": "stream",
          "text": [
            "/usr/local/lib/python3.7/dist-packages/ipykernel_launcher.py:1: SettingWithCopyWarning: \n",
            "A value is trying to be set on a copy of a slice from a DataFrame\n",
            "\n",
            "See the caveats in the documentation: https://pandas.pydata.org/pandas-docs/stable/user_guide/indexing.html#returning-a-view-versus-a-copy\n",
            "  \"\"\"Entry point for launching an IPython kernel.\n",
            "/usr/local/lib/python3.7/dist-packages/ipykernel_launcher.py:2: SettingWithCopyWarning: \n",
            "A value is trying to be set on a copy of a slice from a DataFrame\n",
            "\n",
            "See the caveats in the documentation: https://pandas.pydata.org/pandas-docs/stable/user_guide/indexing.html#returning-a-view-versus-a-copy\n",
            "  \n"
          ],
          "name": "stderr"
        }
      ]
    },
    {
      "cell_type": "markdown",
      "metadata": {
        "id": "J3XuXXlsNi2S"
      },
      "source": [
        "#### Re-Check duplicates after the remove operation"
      ]
    },
    {
      "cell_type": "markdown",
      "metadata": {
        "id": "azVaAFbIQg9Q"
      },
      "source": [
        "We double check to make sure there are no duplicates anymore"
      ]
    },
    {
      "cell_type": "code",
      "metadata": {
        "id": "_3ovyvl_Ni2S",
        "colab": {
          "base_uri": "https://localhost:8080/"
        },
        "outputId": "4b54201d-72d0-463e-d0ca-98a50215a1f5"
      },
      "source": [
        "print(df_numerical.duplicated(subset=None, keep='first').any())\n",
        "print(df_cat.duplicated(subset=None, keep='first').any())"
      ],
      "execution_count": null,
      "outputs": [
        {
          "output_type": "stream",
          "text": [
            "False\n",
            "False\n"
          ],
          "name": "stdout"
        }
      ]
    },
    {
      "cell_type": "markdown",
      "metadata": {
        "id": "IPlCNsFaNi2S"
      },
      "source": [
        "### Check Missing values"
      ]
    },
    {
      "cell_type": "markdown",
      "metadata": {
        "id": "O3K84xXdQqpS"
      },
      "source": [
        "Here we need to identify the nulls in our dataset"
      ]
    },
    {
      "cell_type": "code",
      "metadata": {
        "id": "dJNBlBUkNi2T",
        "colab": {
          "base_uri": "https://localhost:8080/"
        },
        "outputId": "e6e19a5c-5b2f-46fd-de16-6e24886a3b23"
      },
      "source": [
        "print (\"Missing values per column:\")\n",
        "print (df_cat.isnull().sum(axis = 0) )\n",
        "print (df_numerical.isnull().sum(axis = 0) )"
      ],
      "execution_count": null,
      "outputs": [
        {
          "output_type": "stream",
          "text": [
            "Missing values per column:\n",
            "hotel                     0\n",
            "is_canceled               0\n",
            "arrival_date_month        0\n",
            "meal                      0\n",
            "country                 251\n",
            "market_segment            0\n",
            "distribution_channel      0\n",
            "is_repeated_guest         0\n",
            "reserved_room_type        0\n",
            "assigned_room_type        0\n",
            "deposit_type              0\n",
            "customer_type             0\n",
            "reservation_status        0\n",
            "dtype: int64\n",
            "lead_time                             0\n",
            "arrival_date_year                     0\n",
            "arrival_date_week_number              0\n",
            "arrival_date_day_of_month             0\n",
            "stays_in_weekend_nights               0\n",
            "stays_in_week_nights                  0\n",
            "adults                                0\n",
            "children                              4\n",
            "babies                                0\n",
            "previous_cancellations                0\n",
            "previous_bookings_not_canceled        0\n",
            "booking_changes                       0\n",
            "agent                             11326\n",
            "company                           78629\n",
            "days_in_waiting_list                  0\n",
            "adr                                   0\n",
            "required_car_parking_spaces           0\n",
            "total_of_special_requests             0\n",
            "dtype: int64\n"
          ],
          "name": "stdout"
        }
      ]
    },
    {
      "cell_type": "markdown",
      "metadata": {
        "id": "GfLui2l9Ni2T"
      },
      "source": [
        "#### Fill Missing values"
      ]
    },
    {
      "cell_type": "markdown",
      "metadata": {
        "id": "j5RaEgS5QyOP"
      },
      "source": [
        "We ususally can fill the nulls with mean, median, mode, etc. <br>\n",
        "In this example, we chose to fill with the mode.<br>\n"
      ]
    },
    {
      "cell_type": "code",
      "metadata": {
        "id": "NMyg2BAQNi2U",
        "colab": {
          "base_uri": "https://localhost:8080/"
        },
        "outputId": "b0186114-e7be-4db2-f71e-ef8e76e77fe3"
      },
      "source": [
        "# Compute the mode of the country, company, agent, and children columns: country_mode, company_mode, agent_mode, and children_mode\n",
        "country_mode= df_cat.country.mode()[0]\n",
        "company_mode = df_numerical.company.mode()[0]\n",
        "agent_mode = df_numerical.agent.mode()[0]\n",
        "children_mode = df_numerical.children.mode()[0]\n",
        "\n",
        "# Replace all the missing values in the company, country, agent, and children columns with the mode of that column\n",
        "df_cat.country.fillna(country_mode,inplace=True)\n",
        "df_numerical.company.fillna(company_mode,inplace=True)\n",
        "df_numerical.agent.fillna(agent_mode,inplace=True)\n",
        "df_numerical.children.fillna(children_mode, inplace=True)"
      ],
      "execution_count": null,
      "outputs": [
        {
          "output_type": "stream",
          "text": [
            "/usr/local/lib/python3.7/dist-packages/pandas/core/series.py:4536: SettingWithCopyWarning: \n",
            "A value is trying to be set on a copy of a slice from a DataFrame\n",
            "\n",
            "See the caveats in the documentation: https://pandas.pydata.org/pandas-docs/stable/user_guide/indexing.html#returning-a-view-versus-a-copy\n",
            "  downcast=downcast,\n"
          ],
          "name": "stderr"
        }
      ]
    },
    {
      "cell_type": "markdown",
      "metadata": {
        "id": "5LrCli9KNi2U"
      },
      "source": [
        "#### Re-Check Missing values"
      ]
    },
    {
      "cell_type": "markdown",
      "metadata": {
        "id": "qyUq_hwhRXbi"
      },
      "source": [
        "Here we make sure that there are no missing values anymore"
      ]
    },
    {
      "cell_type": "code",
      "metadata": {
        "id": "VhDsC37sNi2U",
        "colab": {
          "base_uri": "https://localhost:8080/"
        },
        "outputId": "a77894fa-20cc-47e4-aa4e-feb8dc194e0c"
      },
      "source": [
        "print (\"Missing values per column:\")\n",
        "df_cat.info()\n",
        "df_numerical.info()"
      ],
      "execution_count": null,
      "outputs": [
        {
          "output_type": "stream",
          "text": [
            "Missing values per column:\n",
            "<class 'pandas.core.frame.DataFrame'>\n",
            "Int64Index: 24632 entries, 0 to 119389\n",
            "Data columns (total 13 columns):\n",
            " #   Column                Non-Null Count  Dtype   \n",
            "---  ------                --------------  -----   \n",
            " 0   hotel                 24632 non-null  category\n",
            " 1   is_canceled           24632 non-null  category\n",
            " 2   arrival_date_month    24632 non-null  category\n",
            " 3   meal                  24632 non-null  object  \n",
            " 4   country               24632 non-null  category\n",
            " 5   market_segment        24632 non-null  category\n",
            " 6   distribution_channel  24632 non-null  category\n",
            " 7   is_repeated_guest     24632 non-null  category\n",
            " 8   reserved_room_type    24632 non-null  category\n",
            " 9   assigned_room_type    24632 non-null  category\n",
            " 10  deposit_type          24632 non-null  category\n",
            " 11  customer_type         24632 non-null  category\n",
            " 12  reservation_status    24632 non-null  category\n",
            "dtypes: category(12), object(1)\n",
            "memory usage: 706.4+ KB\n",
            "<class 'pandas.core.frame.DataFrame'>\n",
            "Int64Index: 83387 entries, 0 to 119389\n",
            "Data columns (total 18 columns):\n",
            " #   Column                          Non-Null Count  Dtype  \n",
            "---  ------                          --------------  -----  \n",
            " 0   lead_time                       83387 non-null  int64  \n",
            " 1   arrival_date_year               83387 non-null  int64  \n",
            " 2   arrival_date_week_number        83387 non-null  int64  \n",
            " 3   arrival_date_day_of_month       83387 non-null  int64  \n",
            " 4   stays_in_weekend_nights         83387 non-null  int64  \n",
            " 5   stays_in_week_nights            83387 non-null  int64  \n",
            " 6   adults                          83387 non-null  int64  \n",
            " 7   children                        83387 non-null  float64\n",
            " 8   babies                          83387 non-null  int64  \n",
            " 9   previous_cancellations          83387 non-null  int64  \n",
            " 10  previous_bookings_not_canceled  83387 non-null  int64  \n",
            " 11  booking_changes                 83387 non-null  int64  \n",
            " 12  agent                           83387 non-null  float64\n",
            " 13  company                         83387 non-null  float64\n",
            " 14  days_in_waiting_list            83387 non-null  int64  \n",
            " 15  adr                             83387 non-null  float64\n",
            " 16  required_car_parking_spaces     83387 non-null  int64  \n",
            " 17  total_of_special_requests       83387 non-null  int64  \n",
            "dtypes: float64(4), int64(14)\n",
            "memory usage: 12.1 MB\n"
          ],
          "name": "stdout"
        }
      ]
    },
    {
      "cell_type": "markdown",
      "metadata": {
        "id": "-cwkjn2P-p-o"
      },
      "source": [
        "### Convert float to int"
      ]
    },
    {
      "cell_type": "markdown",
      "metadata": {
        "id": "-vB3MM14-3q_"
      },
      "source": [
        "Now that we've dealt with missing values, we can change the data type from float to int.\n",
        "\n",
        "*(Side note: integer arithmetics are faster than those of floats!)*"
      ]
    },
    {
      "cell_type": "code",
      "metadata": {
        "id": "utra_NCC-mnY",
        "colab": {
          "base_uri": "https://localhost:8080/"
        },
        "outputId": "4b11a8e6-7c96-4aba-8e71-a03a4b0acd01"
      },
      "source": [
        "df_numerical.children=df_numerical.children.astype(int)\n",
        "df_numerical.company=df_numerical.company.astype(int)\n",
        "df_numerical.agent=df_numerical.agent.astype(int)\n",
        "\n",
        "#Check the conversion\n",
        "df_numerical.info()"
      ],
      "execution_count": null,
      "outputs": [
        {
          "output_type": "stream",
          "text": [
            "<class 'pandas.core.frame.DataFrame'>\n",
            "Int64Index: 83387 entries, 0 to 119389\n",
            "Data columns (total 18 columns):\n",
            " #   Column                          Non-Null Count  Dtype  \n",
            "---  ------                          --------------  -----  \n",
            " 0   lead_time                       83387 non-null  int64  \n",
            " 1   arrival_date_year               83387 non-null  int64  \n",
            " 2   arrival_date_week_number        83387 non-null  int64  \n",
            " 3   arrival_date_day_of_month       83387 non-null  int64  \n",
            " 4   stays_in_weekend_nights         83387 non-null  int64  \n",
            " 5   stays_in_week_nights            83387 non-null  int64  \n",
            " 6   adults                          83387 non-null  int64  \n",
            " 7   children                        83387 non-null  int64  \n",
            " 8   babies                          83387 non-null  int64  \n",
            " 9   previous_cancellations          83387 non-null  int64  \n",
            " 10  previous_bookings_not_canceled  83387 non-null  int64  \n",
            " 11  booking_changes                 83387 non-null  int64  \n",
            " 12  agent                           83387 non-null  int64  \n",
            " 13  company                         83387 non-null  int64  \n",
            " 14  days_in_waiting_list            83387 non-null  int64  \n",
            " 15  adr                             83387 non-null  float64\n",
            " 16  required_car_parking_spaces     83387 non-null  int64  \n",
            " 17  total_of_special_requests       83387 non-null  int64  \n",
            "dtypes: float64(1), int64(17)\n",
            "memory usage: 12.1 MB\n"
          ],
          "name": "stdout"
        },
        {
          "output_type": "stream",
          "text": [
            "/usr/local/lib/python3.7/dist-packages/pandas/core/generic.py:5170: SettingWithCopyWarning: \n",
            "A value is trying to be set on a copy of a slice from a DataFrame.\n",
            "Try using .loc[row_indexer,col_indexer] = value instead\n",
            "\n",
            "See the caveats in the documentation: https://pandas.pydata.org/pandas-docs/stable/user_guide/indexing.html#returning-a-view-versus-a-copy\n",
            "  self[name] = value\n"
          ],
          "name": "stderr"
        }
      ]
    },
    {
      "cell_type": "markdown",
      "metadata": {
        "id": "ULgCJfJNNi2V"
      },
      "source": [
        "# 3. Check Correlations"
      ]
    },
    {
      "cell_type": "markdown",
      "metadata": {
        "id": "86EKHjtfNi2V"
      },
      "source": [
        "## Identify Highly Correlated Variables"
      ]
    },
    {
      "cell_type": "markdown",
      "metadata": {
        "id": "3ehH7iX2Rg9T"
      },
      "source": [
        "Here, we will check variables that are correlated by a factor larger than 0.75 and only keep one of them. <br>\n",
        "\n",
        "**Note:** We take the upper triangle of the matrix because it's the same as the lower one and that's because<br>\n",
        "`Correlation (var1, var2) = Correlation (var2, var1)`, i.e. the matrix is *symmetric*"
      ]
    },
    {
      "cell_type": "code",
      "metadata": {
        "id": "QadzJ37ONi2V",
        "colab": {
          "base_uri": "https://localhost:8080/"
        },
        "outputId": "12e02243-6ab0-42c9-c144-1878566344be"
      },
      "source": [
        "# Create correlation matrix\n",
        "corr_matrix = df_numerical.corr().abs()\n",
        "print(\"Correlation Matrix:\")\n",
        "print(corr_matrix)\n",
        "\n",
        "# Select upper triangle of correlation matrix\n",
        "upper = corr_matrix.where(np.triu(np.ones(corr_matrix.shape), k=1).astype(np.bool))\n",
        "\n",
        "# Find index of feature columns with correlation greater than 0.75\n",
        "to_drop = [column for column in upper.columns if any(upper[column] > 0.75)]\n",
        "print(\"Columns to drop:\")\n",
        "print(to_drop)"
      ],
      "execution_count": null,
      "outputs": [
        {
          "output_type": "stream",
          "text": [
            "Correlation Matrix:\n",
            "                                lead_time  ...  total_of_special_requests\n",
            "lead_time                        1.000000  ...                   0.039507\n",
            "arrival_date_year                0.146643  ...                   0.055945\n",
            "arrival_date_week_number         0.099313  ...                   0.049210\n",
            "arrival_date_day_of_month        0.009155  ...                   0.000293\n",
            "stays_in_weekend_nights          0.249026  ...                   0.027582\n",
            "stays_in_week_nights             0.322176  ...                   0.032740\n",
            "adults                           0.145085  ...                   0.102587\n",
            "children                         0.034450  ...                   0.039771\n",
            "babies                           0.002347  ...                   0.094704\n",
            "previous_cancellations           0.005273  ...                   0.001163\n",
            "previous_bookings_not_canceled   0.080371  ...                   0.025692\n",
            "booking_changes                  0.077823  ...                   0.019687\n",
            "agent                            0.071746  ...                   0.027958\n",
            "company                          0.073820  ...                   0.092099\n",
            "days_in_waiting_list             0.118140  ...                   0.042749\n",
            "adr                              0.030431  ...                   0.131887\n",
            "required_car_parking_spaces      0.086547  ...                   0.044887\n",
            "total_of_special_requests        0.039507  ...                   1.000000\n",
            "\n",
            "[18 rows x 18 columns]\n",
            "Columns to drop:\n",
            "[]\n"
          ],
          "name": "stdout"
        }
      ]
    },
    {
      "cell_type": "markdown",
      "metadata": {
        "id": "2LMxs8XiStau"
      },
      "source": [
        "As you've seen, there are no columns to drop because there are no variables correlated by more than 75%."
      ]
    }
  ]
}